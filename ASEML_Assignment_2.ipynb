{
  "nbformat": 4,
  "nbformat_minor": 0,
  "metadata": {
    "accelerator": "GPU",
    "colab": {
      "name": "Copy of Assignment 2.ipynb",
      "provenance": [],
      "collapsed_sections": [],
      "toc_visible": true
    },
    "kernelspec": {
      "display_name": "Python 3",
      "name": "python3"
    },
    "language_info": {
      "name": "python"
    }
  },
  "cells": [
    {
      "cell_type": "markdown",
      "metadata": {
        "id": "pd5FrRM0s5FU"
      },
      "source": [
        "**Objective:** Design, implement and evaluate deep learning solution to fix syntactic errors in C programs. "
      ]
    },
    {
      "cell_type": "markdown",
      "metadata": {
        "id": "5W7s6gc_vL53"
      },
      "source": [
        "##What to do\n",
        "\n",
        "* Prepare data for deep learning\n",
        "* Implement a deep learning model for sequence to sequence translation (from buggy to fix)\n",
        "* Training and evaluating the deep learning model."
      ]
    },
    {
      "cell_type": "markdown",
      "metadata": {
        "id": "dWFSQ1tLvmMB"
      },
      "source": [
        "## Problem Statement\n",
        "\n",
        "* <b>Line to line fixing </b> - map sourceLineTokens to targetLineTokens\n",
        "* <b>Program to line fixing </b> - map sourceTokens to targetLineTokens"
      ]
    },
    {
      "cell_type": "code",
      "metadata": {
        "colab": {
          "base_uri": "https://localhost:8080/"
        },
        "id": "PR0CuZooK9qW",
        "outputId": "36fd3bfe-482d-4ce9-8609-d0fe15ea488a"
      },
      "source": [
        "from google.colab import drive\n",
        "drive.mount('/content/drive')"
      ],
      "execution_count": 2,
      "outputs": [
        {
          "output_type": "stream",
          "text": [
            "Drive already mounted at /content/drive; to attempt to forcibly remount, call drive.mount(\"/content/drive\", force_remount=True).\n"
          ],
          "name": "stdout"
        }
      ]
    },
    {
      "cell_type": "code",
      "metadata": {
        "id": "NTblE2VnEshH"
      },
      "source": [
        "import numpy as np\n",
        "import ast\n",
        "import pandas as pd\n",
        "from matplotlib import pyplot as plt\n",
        "%matplotlib inline\n",
        "import tensorflow as tf\n",
        "from tensorflow import keras"
      ],
      "execution_count": 3,
      "outputs": []
    },
    {
      "cell_type": "code",
      "metadata": {
        "id": "acaQNwwdJMRF"
      },
      "source": [
        "df = pd.read_csv(\"\")"
      ],
      "execution_count": 4,
      "outputs": []
    },
    {
      "cell_type": "code",
      "metadata": {
        "colab": {
          "base_uri": "https://localhost:8080/",
          "height": 411
        },
        "id": "9Z_eOjDjs8HB",
        "outputId": "446f942e-2268-4793-e384-393746a2086b"
      },
      "source": [
        "df.head()"
      ],
      "execution_count": 5,
      "outputs": [
        {
          "output_type": "execute_result",
          "data": {
            "text/html": [
              "<div>\n",
              "<style scoped>\n",
              "    .dataframe tbody tr th:only-of-type {\n",
              "        vertical-align: middle;\n",
              "    }\n",
              "\n",
              "    .dataframe tbody tr th {\n",
              "        vertical-align: top;\n",
              "    }\n",
              "\n",
              "    .dataframe thead th {\n",
              "        text-align: right;\n",
              "    }\n",
              "</style>\n",
              "<table border=\"1\" class=\"dataframe\">\n",
              "  <thead>\n",
              "    <tr style=\"text-align: right;\">\n",
              "      <th></th>\n",
              "      <th>Unnamed: 0</th>\n",
              "      <th>sourceText</th>\n",
              "      <th>targetText</th>\n",
              "      <th>sourceLineText</th>\n",
              "      <th>targetLineText</th>\n",
              "      <th>lineNums_Text</th>\n",
              "      <th>sourceTokens</th>\n",
              "      <th>targetTokens</th>\n",
              "      <th>sourceLineTokens</th>\n",
              "      <th>targetLineTokens</th>\n",
              "    </tr>\n",
              "  </thead>\n",
              "  <tbody>\n",
              "    <tr>\n",
              "      <th>0</th>\n",
              "      <td>0</td>\n",
              "      <td>#include&lt;stdio.h&gt;\\n\\nint check_prime(int num)\\...</td>\n",
              "      <td>#include&lt;stdio.h&gt;\\n\\nint check_prime(int num)\\...</td>\n",
              "      <td>if ( num % i != = 0 ) \\n</td>\n",
              "      <td>if ( num % i == 0 ) \\n</td>\n",
              "      <td>10</td>\n",
              "      <td>[['#include', '&lt;stdio.h&gt;'], [], ['int', 'check...</td>\n",
              "      <td>[['#include', '&lt;stdio.h&gt;'], [], ['int', 'check...</td>\n",
              "      <td>['if', '(', 'num', '%', 'i', '!=', '=', '0', ')']</td>\n",
              "      <td>['if', '(', 'num', '%', 'i', '==', '0', ')']</td>\n",
              "    </tr>\n",
              "    <tr>\n",
              "      <th>1</th>\n",
              "      <td>1</td>\n",
              "      <td>#include &lt;stdio.h&gt;\\nstruct point{\\n    int x,y...</td>\n",
              "      <td>#include &lt;stdio.h&gt;\\nstruct point{\\n    int x,y...</td>\n",
              "      <td>\\n</td>\n",
              "      <td>} \\n</td>\n",
              "      <td>39</td>\n",
              "      <td>[['#include', ' &lt;stdio.h&gt;'], ['struct', 'point...</td>\n",
              "      <td>[['#include', ' &lt;stdio.h&gt;'], ['struct', 'point...</td>\n",
              "      <td>[]</td>\n",
              "      <td>['}']</td>\n",
              "    </tr>\n",
              "    <tr>\n",
              "      <th>2</th>\n",
              "      <td>2</td>\n",
              "      <td>#include&lt;stdio.h&gt;\\nint main(){\\n    int a=10;\\...</td>\n",
              "      <td>#include&lt;stdio.h&gt;\\nint main(){\\n    int a=10;\\...</td>\n",
              "      <td>d = ( b * b ) - 4 * a * c \\n</td>\n",
              "      <td>d = ( b * b ) - 4 * a * c ; \\n</td>\n",
              "      <td>7</td>\n",
              "      <td>[['#include', '&lt;stdio.h&gt;'], ['int', 'main', '(...</td>\n",
              "      <td>[['#include', '&lt;stdio.h&gt;'], ['int', 'main', '(...</td>\n",
              "      <td>['d', '=', '(', 'b', '*', 'b', ')', '-', '4', ...</td>\n",
              "      <td>['d', '=', '(', 'b', '*', 'b', ')', '-', '4', ...</td>\n",
              "    </tr>\n",
              "    <tr>\n",
              "      <th>3</th>\n",
              "      <td>3</td>\n",
              "      <td>#include&lt;stdio.h&gt;\\nint main(){\\n    printf(\"Le...</td>\n",
              "      <td>#include&lt;stdio.h&gt;\\nint main(){\\n    printf(\"Le...</td>\n",
              "      <td>printf ( \"Let\\\\s \\\"C\" ! \"); \\n</td>\n",
              "      <td>printf ( \"Let\\\\s \\\"C\\\"!\" ) ; \\n</td>\n",
              "      <td>3</td>\n",
              "      <td>[['#include', '&lt;stdio.h&gt;'], ['int', 'main', '(...</td>\n",
              "      <td>[['#include', '&lt;stdio.h&gt;'], ['int', 'main', '(...</td>\n",
              "      <td>['printf', '(', '\"Let\\\\\\\\s \\\\\"', 'C', '\" ! \"',...</td>\n",
              "      <td>['printf', '(', '\"Let\\\\\\\\s \\\\\"', 'C', '\\\\', '\"...</td>\n",
              "    </tr>\n",
              "    <tr>\n",
              "      <th>4</th>\n",
              "      <td>4</td>\n",
              "      <td>#include &lt;stdio.h&gt;\\nint main() {\\n\\tint n,m,i,...</td>\n",
              "      <td>#include &lt;stdio.h&gt;\\nint main() {\\n\\tint n,m,i,...</td>\n",
              "      <td>print f \\n</td>\n",
              "      <td>\\n</td>\n",
              "      <td>60</td>\n",
              "      <td>[['#include', ' &lt;stdio.h&gt;'], ['int', 'main', '...</td>\n",
              "      <td>[['#include', ' &lt;stdio.h&gt;'], ['int', 'main', '...</td>\n",
              "      <td>['print', 'f']</td>\n",
              "      <td>[]</td>\n",
              "    </tr>\n",
              "  </tbody>\n",
              "</table>\n",
              "</div>"
            ],
            "text/plain": [
              "   Unnamed: 0  ...                                   targetLineTokens\n",
              "0           0  ...       ['if', '(', 'num', '%', 'i', '==', '0', ')']\n",
              "1           1  ...                                              ['}']\n",
              "2           2  ...  ['d', '=', '(', 'b', '*', 'b', ')', '-', '4', ...\n",
              "3           3  ...  ['printf', '(', '\"Let\\\\\\\\s \\\\\"', 'C', '\\\\', '\"...\n",
              "4           4  ...                                                 []\n",
              "\n",
              "[5 rows x 10 columns]"
            ]
          },
          "metadata": {
            "tags": []
          },
          "execution_count": 5
        }
      ]
    },
    {
      "cell_type": "code",
      "metadata": {
        "id": "ga9w-HYEv3pU"
      },
      "source": [
        ""
      ],
      "execution_count": 5,
      "outputs": []
    },
    {
      "cell_type": "code",
      "metadata": {
        "id": "-AGPnXhxBfUZ"
      },
      "source": [
        "PAD_token = 0   # Used for padding short sentences\n",
        "SOS_token = 1   # Start-of-sentence token\n",
        "EOS_token = 2   # End-of-sentence token\n",
        "OOV_token = 3   # out of vocabulary token\n",
        "\n",
        "dim = 50\n",
        "\n",
        "class Vocabulary:\n",
        "    \n",
        "\n",
        "    def __init__(self, name):\n",
        "      \n",
        "      self.name = name\n",
        "      self.word2index = {\"OOV\": OOV_token, \"PAD\": PAD_token, \"SOS\": SOS_token, \"EOS\": EOS_token}\n",
        "      self.word2count = {\"OOV\": 0}\n",
        "      self.index2word = {PAD_token: \"PAD\", SOS_token: \"SOS\", EOS_token: \"EOS\", OOV_token: \"OOV\"}\n",
        "      self.num_words = 4\n",
        "      self.longest_token_list = 0\n",
        "\n",
        "    def add_word(self, word):\n",
        "\n",
        "      if word not in self.word2index:\n",
        "        # First entry of word into vocabulary\n",
        "        self.word2index[word] = self.num_words\n",
        "        self.word2count[word] = 1\n",
        "        self.index2word[self.num_words] = word\n",
        "        self.num_words += 1\n",
        "\n",
        "      self.word2count[word] += 1\n",
        "          \n",
        "    def add_tokens(self, tokens, consider_oov=False):\n",
        "\n",
        "      \n",
        "      for token in tokens:\n",
        "        self.add_word(token)\n",
        "      \n",
        "\n",
        "    def to_word(self, index):\n",
        "      return self.index2word[index]\n",
        "\n",
        "    def to_index(self, word):\n",
        "      return self.word2index[word]"
      ],
      "execution_count": 6,
      "outputs": []
    },
    {
      "cell_type": "code",
      "metadata": {
        "id": "KxLeuDHs8DZq"
      },
      "source": [
        "\n",
        "\n",
        "input_tokens = []\n",
        "target_tokens = []\n",
        "\n",
        "vocab = Vocabulary(\"input\")\n",
        "\n",
        "for i in range(len(df)):\n",
        "  sourceLineToken = ast.literal_eval(df['sourceLineTokens'][i])\n",
        "  input_tokens.append(sourceLineToken)\n",
        "  vocab.add_tokens(sourceLineToken)\n",
        "\n",
        "for i in range(len(df)):\n",
        "  targetLineToken = ast.literal_eval(df['targetLineTokens'][i])\n",
        "  target_tokens.append(targetLineToken)\n",
        "\n",
        "\n",
        "\n",
        "vocab.word2count = sorted(vocab.word2count.items(), key = lambda kv:(kv[1], kv[0]), reverse=True)\n",
        "\n",
        "valid_dict = dict(vocab.word2count[:300])\n",
        "\n",
        "vocab = Vocabulary(\"output\")\n",
        "\n",
        "for key in valid_dict.keys():\n",
        "  vocab.add_word(key)\n",
        "\n",
        "\n",
        "for i in range(len(input_tokens)):\n",
        "  for j in range(len(input_tokens[i])):\n",
        "    if input_tokens[i][j] not in vocab.word2index.keys():\n",
        "      input_tokens[i][j] = \"OOV\"\n",
        "  \n",
        "for i in range(len(target_tokens)):\n",
        "  for j in range(len(target_tokens[i])):\n",
        "    if target_tokens[i][j] not in vocab.word2index.keys():\n",
        "      target_tokens[i][j] = \"OOV\"\n",
        "\n",
        "\n"
      ],
      "execution_count": 7,
      "outputs": []
    },
    {
      "cell_type": "code",
      "metadata": {
        "colab": {
          "base_uri": "https://localhost:8080/"
        },
        "id": "gON4mBy02qww",
        "outputId": "61fe1a84-6037-42dc-c330-11b69e394ecf"
      },
      "source": [
        "input_tokens[0]"
      ],
      "execution_count": 8,
      "outputs": [
        {
          "output_type": "execute_result",
          "data": {
            "text/plain": [
              "['if', '(', 'num', '%', 'i', '!=', '=', '0', ')']"
            ]
          },
          "metadata": {
            "tags": []
          },
          "execution_count": 8
        }
      ]
    },
    {
      "cell_type": "code",
      "metadata": {
        "colab": {
          "base_uri": "https://localhost:8080/"
        },
        "id": "u3hmgpG1q8I1",
        "outputId": "d867ad17-cd79-4150-d33c-dc23e8150160"
      },
      "source": [
        "for i in range(len(input_tokens)):\n",
        "  input_tokens[i] = input_tokens[i][:dim-1]\n",
        "\n",
        "max_len = 0\n",
        "for j in range(len(target_tokens)):\n",
        "  target_tokens[j] = target_tokens[j][:dim-1]\n",
        "  max_len = max(max_len, len(target_tokens[j]))\n",
        "\n",
        "max_len\n",
        "  "
      ],
      "execution_count": 9,
      "outputs": [
        {
          "output_type": "execute_result",
          "data": {
            "text/plain": [
              "49"
            ]
          },
          "metadata": {
            "tags": []
          },
          "execution_count": 9
        }
      ]
    },
    {
      "cell_type": "code",
      "metadata": {
        "id": "rrdxCFKJ9VbE",
        "colab": {
          "base_uri": "https://localhost:8080/"
        },
        "outputId": "69d7b7ca-4af4-4288-8c35-54dc2a243392"
      },
      "source": [
        "vocab.num_words"
      ],
      "execution_count": 10,
      "outputs": [
        {
          "output_type": "execute_result",
          "data": {
            "text/plain": [
              "304"
            ]
          },
          "metadata": {
            "tags": []
          },
          "execution_count": 10
        }
      ]
    },
    {
      "cell_type": "code",
      "metadata": {
        "id": "cN7R81kS0d-7"
      },
      "source": [
        "encoder_input_data = np.zeros(\n",
        "    (len(input_tokens), dim + 1, vocab.num_words), dtype=float\n",
        ")\n",
        "\n",
        "decoder_input_data = np.zeros(\n",
        "    (len(input_tokens), dim + 1, vocab.num_words), dtype=float\n",
        ")\n",
        "\n",
        "decoder_target_data = np.zeros(\n",
        "    (len(input_tokens), dim + 1, vocab.num_words), dtype=float\n",
        ")"
      ],
      "execution_count": 11,
      "outputs": []
    },
    {
      "cell_type": "code",
      "metadata": {
        "id": "ja71TFYWpNYe"
      },
      "source": [
        "for i, (input_token, target_token) in enumerate(zip(input_tokens, target_tokens)):\n",
        "\n",
        "    # input_token = input_token[:dim-1]\n",
        "    for t, token in enumerate(input_token):\n",
        "        encoder_input_data[i, t, vocab.word2index[token]] = 1.0\n",
        "\n",
        "    t = t + 1\n",
        "    encoder_input_data[i, t, EOS_token] = 1.0\n",
        "\n",
        "    encoder_input_data[i, t + 1: , PAD_token] = 1.0\n",
        "\n",
        "    # For decoder\n",
        "\n",
        "    # target_token = target_token[:dim - 1]\n",
        "    decoder_input_data[i, 0, SOS_token] = 1.0\n",
        "    for t, token in enumerate(target_token):\n",
        "        # print(vocab_output.word2index[token], t+1)\n",
        "        decoder_input_data[i, t + 1, vocab.word2index[token]] = 1.0\n",
        "        decoder_target_data[i, t, vocab.word2index[token]] = 1.0\n",
        "        # print(t+1, vocab.word2index[token])\n",
        "    # print(t+1, EOS_token)\n",
        "    t = t + 1\n",
        "    decoder_input_data[i, t + 1, EOS_token] = 1.0\n",
        "    decoder_target_data[i, t, EOS_token] = 1.0\n",
        "\n",
        "    decoder_input_data[i, t + 2: , PAD_token] = 1.0\n",
        "    decoder_target_data[i, t + 1: , PAD_token] = 1.0\n",
        "\n",
        "    # print(decoder_input_data[i, t + 7 , PAD_token])\n",
        "\n"
      ],
      "execution_count": 12,
      "outputs": []
    },
    {
      "cell_type": "code",
      "metadata": {
        "colab": {
          "base_uri": "https://localhost:8080/"
        },
        "id": "bFxlcvku54K-",
        "outputId": "4ff62495-5567-4595-c636-9debcbe6ba1c"
      },
      "source": [
        "decoder_target_data.shape"
      ],
      "execution_count": 13,
      "outputs": [
        {
          "output_type": "execute_result",
          "data": {
            "text/plain": [
              "(14643, 51, 304)"
            ]
          },
          "metadata": {
            "tags": []
          },
          "execution_count": 13
        }
      ]
    },
    {
      "cell_type": "code",
      "metadata": {
        "id": "s4Jy48dVuMLz"
      },
      "source": [
        "batch_size = 64  # Batch size for training.\n",
        "epochs = 100  # Number of epochs to train for.\n",
        "latent_dim = 256  # Latent dimensionality of the encoding space.\n",
        "num_samples = 10000  # Number of samples to train on.\n",
        "\n",
        "# Define an input sequence and process it.\n",
        "encoder_inputs = keras.Input(shape=(None, vocab.num_words))\n",
        "encoder = keras.layers.LSTM(latent_dim, return_state=True)\n",
        "encoder_outputs, state_h, state_c = encoder(encoder_inputs)\n",
        "\n",
        "# We discard `encoder_outputs` and only keep the states.\n",
        "encoder_states = [state_h, state_c]\n",
        "\n",
        "# Set up the decoder, using `encoder_states` as initial state.\n",
        "decoder_inputs = keras.Input(shape=(None, vocab.num_words))\n",
        "\n",
        "# We set up our decoder to return full output sequences,\n",
        "# and to return internal states as well. We don't use the\n",
        "# return states in the training model, but we will use them in inference.\n",
        "decoder_lstm = keras.layers.LSTM(latent_dim, return_sequences=True, return_state=True)\n",
        "decoder_outputs, _, _ = decoder_lstm(decoder_inputs, initial_state=encoder_states)\n",
        "decoder_dense = keras.layers.Dense(vocab.num_words, activation=\"softmax\")\n",
        "decoder_outputs = decoder_dense(decoder_outputs)\n",
        "\n",
        "# Define the model that will turn\n",
        "# `encoder_input_data` & `decoder_input_data` into `decoder_target_data`\n",
        "model = keras.Model([encoder_inputs, decoder_inputs], decoder_outputs)"
      ],
      "execution_count": 14,
      "outputs": []
    },
    {
      "cell_type": "code",
      "metadata": {
        "colab": {
          "base_uri": "https://localhost:8080/"
        },
        "id": "Wj_51KLq4HDA",
        "outputId": "2a571817-3f72-44f8-848d-bc42d84ed1f2"
      },
      "source": [
        "from keras.callbacks import ModelCheckpoint\n",
        "\n",
        "model.compile(\n",
        "    optimizer=\"rmsprop\", loss=\"categorical_crossentropy\", metrics=[\"accuracy\"]\n",
        ")\n",
        "\n",
        "filepath=\"/content/drive/MyDrive/Colab Notebooks/ASEML/\"\n",
        "checkpoint = ModelCheckpoint(filepath, monitor='val_accuracy', verbose=1, save_best_only=True, mode='max')\n",
        "callbacks_list = [checkpoint]\n",
        "\n",
        "model.fit(\n",
        "    [encoder_input_data, decoder_input_data],\n",
        "    decoder_target_data,\n",
        "    batch_size=batch_size,\n",
        "    epochs=epochs,\n",
        "    validation_split=0.3,\n",
        "    callbacks=callbacks_list,\n",
        ")"
      ],
      "execution_count": 15,
      "outputs": [
        {
          "output_type": "stream",
          "text": [
            "Epoch 1/100\n",
            "161/161 [==============================] - 35s 64ms/step - loss: 1.4560 - accuracy: 0.7548 - val_loss: 0.8595 - val_accuracy: 0.8027\n",
            "\n",
            "Epoch 00001: val_accuracy improved from -inf to 0.80265, saving model to /content/drive/MyDrive/Colab Notebooks/ASEML\n"
          ],
          "name": "stdout"
        },
        {
          "output_type": "stream",
          "text": [
            "WARNING:absl:Found untraced functions such as lstm_cell_layer_call_fn, lstm_cell_layer_call_and_return_conditional_losses, lstm_cell_1_layer_call_fn, lstm_cell_1_layer_call_and_return_conditional_losses, lstm_cell_layer_call_fn while saving (showing 5 of 10). These functions will not be directly callable after loading.\n",
            "WARNING:absl:Found untraced functions such as lstm_cell_layer_call_fn, lstm_cell_layer_call_and_return_conditional_losses, lstm_cell_1_layer_call_fn, lstm_cell_1_layer_call_and_return_conditional_losses, lstm_cell_layer_call_fn while saving (showing 5 of 10). These functions will not be directly callable after loading.\n"
          ],
          "name": "stderr"
        },
        {
          "output_type": "stream",
          "text": [
            "INFO:tensorflow:Assets written to: /content/drive/MyDrive/Colab Notebooks/ASEML/assets\n"
          ],
          "name": "stdout"
        },
        {
          "output_type": "stream",
          "text": [
            "INFO:tensorflow:Assets written to: /content/drive/MyDrive/Colab Notebooks/ASEML/assets\n"
          ],
          "name": "stderr"
        },
        {
          "output_type": "stream",
          "text": [
            "Epoch 2/100\n",
            "161/161 [==============================] - 9s 56ms/step - loss: 0.8163 - accuracy: 0.8223 - val_loss: 0.6576 - val_accuracy: 0.8443\n",
            "\n",
            "Epoch 00002: val_accuracy improved from 0.80265 to 0.84433, saving model to /content/drive/MyDrive/Colab Notebooks/ASEML\n"
          ],
          "name": "stdout"
        },
        {
          "output_type": "stream",
          "text": [
            "WARNING:absl:Found untraced functions such as lstm_cell_layer_call_fn, lstm_cell_layer_call_and_return_conditional_losses, lstm_cell_1_layer_call_fn, lstm_cell_1_layer_call_and_return_conditional_losses, lstm_cell_layer_call_fn while saving (showing 5 of 10). These functions will not be directly callable after loading.\n",
            "WARNING:absl:Found untraced functions such as lstm_cell_layer_call_fn, lstm_cell_layer_call_and_return_conditional_losses, lstm_cell_1_layer_call_fn, lstm_cell_1_layer_call_and_return_conditional_losses, lstm_cell_layer_call_fn while saving (showing 5 of 10). These functions will not be directly callable after loading.\n"
          ],
          "name": "stderr"
        },
        {
          "output_type": "stream",
          "text": [
            "INFO:tensorflow:Assets written to: /content/drive/MyDrive/Colab Notebooks/ASEML/assets\n"
          ],
          "name": "stdout"
        },
        {
          "output_type": "stream",
          "text": [
            "INFO:tensorflow:Assets written to: /content/drive/MyDrive/Colab Notebooks/ASEML/assets\n"
          ],
          "name": "stderr"
        },
        {
          "output_type": "stream",
          "text": [
            "Epoch 3/100\n",
            "161/161 [==============================] - 9s 55ms/step - loss: 0.5888 - accuracy: 0.8655 - val_loss: 0.5180 - val_accuracy: 0.8737\n",
            "\n",
            "Epoch 00003: val_accuracy improved from 0.84433 to 0.87374, saving model to /content/drive/MyDrive/Colab Notebooks/ASEML\n"
          ],
          "name": "stdout"
        },
        {
          "output_type": "stream",
          "text": [
            "WARNING:absl:Found untraced functions such as lstm_cell_layer_call_fn, lstm_cell_layer_call_and_return_conditional_losses, lstm_cell_1_layer_call_fn, lstm_cell_1_layer_call_and_return_conditional_losses, lstm_cell_layer_call_fn while saving (showing 5 of 10). These functions will not be directly callable after loading.\n",
            "WARNING:absl:Found untraced functions such as lstm_cell_layer_call_fn, lstm_cell_layer_call_and_return_conditional_losses, lstm_cell_1_layer_call_fn, lstm_cell_1_layer_call_and_return_conditional_losses, lstm_cell_layer_call_fn while saving (showing 5 of 10). These functions will not be directly callable after loading.\n"
          ],
          "name": "stderr"
        },
        {
          "output_type": "stream",
          "text": [
            "INFO:tensorflow:Assets written to: /content/drive/MyDrive/Colab Notebooks/ASEML/assets\n"
          ],
          "name": "stdout"
        },
        {
          "output_type": "stream",
          "text": [
            "INFO:tensorflow:Assets written to: /content/drive/MyDrive/Colab Notebooks/ASEML/assets\n"
          ],
          "name": "stderr"
        },
        {
          "output_type": "stream",
          "text": [
            "Epoch 4/100\n",
            "161/161 [==============================] - 9s 55ms/step - loss: 0.4740 - accuracy: 0.8834 - val_loss: 0.4635 - val_accuracy: 0.8840\n",
            "\n",
            "Epoch 00004: val_accuracy improved from 0.87374 to 0.88403, saving model to /content/drive/MyDrive/Colab Notebooks/ASEML\n"
          ],
          "name": "stdout"
        },
        {
          "output_type": "stream",
          "text": [
            "WARNING:absl:Found untraced functions such as lstm_cell_layer_call_fn, lstm_cell_layer_call_and_return_conditional_losses, lstm_cell_1_layer_call_fn, lstm_cell_1_layer_call_and_return_conditional_losses, lstm_cell_layer_call_fn while saving (showing 5 of 10). These functions will not be directly callable after loading.\n",
            "WARNING:absl:Found untraced functions such as lstm_cell_layer_call_fn, lstm_cell_layer_call_and_return_conditional_losses, lstm_cell_1_layer_call_fn, lstm_cell_1_layer_call_and_return_conditional_losses, lstm_cell_layer_call_fn while saving (showing 5 of 10). These functions will not be directly callable after loading.\n"
          ],
          "name": "stderr"
        },
        {
          "output_type": "stream",
          "text": [
            "INFO:tensorflow:Assets written to: /content/drive/MyDrive/Colab Notebooks/ASEML/assets\n"
          ],
          "name": "stdout"
        },
        {
          "output_type": "stream",
          "text": [
            "INFO:tensorflow:Assets written to: /content/drive/MyDrive/Colab Notebooks/ASEML/assets\n"
          ],
          "name": "stderr"
        },
        {
          "output_type": "stream",
          "text": [
            "Epoch 5/100\n",
            "161/161 [==============================] - 9s 57ms/step - loss: 0.4188 - accuracy: 0.8937 - val_loss: 0.4493 - val_accuracy: 0.8872\n",
            "\n",
            "Epoch 00005: val_accuracy improved from 0.88403 to 0.88724, saving model to /content/drive/MyDrive/Colab Notebooks/ASEML\n"
          ],
          "name": "stdout"
        },
        {
          "output_type": "stream",
          "text": [
            "WARNING:absl:Found untraced functions such as lstm_cell_layer_call_fn, lstm_cell_layer_call_and_return_conditional_losses, lstm_cell_1_layer_call_fn, lstm_cell_1_layer_call_and_return_conditional_losses, lstm_cell_layer_call_fn while saving (showing 5 of 10). These functions will not be directly callable after loading.\n",
            "WARNING:absl:Found untraced functions such as lstm_cell_layer_call_fn, lstm_cell_layer_call_and_return_conditional_losses, lstm_cell_1_layer_call_fn, lstm_cell_1_layer_call_and_return_conditional_losses, lstm_cell_layer_call_fn while saving (showing 5 of 10). These functions will not be directly callable after loading.\n"
          ],
          "name": "stderr"
        },
        {
          "output_type": "stream",
          "text": [
            "INFO:tensorflow:Assets written to: /content/drive/MyDrive/Colab Notebooks/ASEML/assets\n"
          ],
          "name": "stdout"
        },
        {
          "output_type": "stream",
          "text": [
            "INFO:tensorflow:Assets written to: /content/drive/MyDrive/Colab Notebooks/ASEML/assets\n"
          ],
          "name": "stderr"
        },
        {
          "output_type": "stream",
          "text": [
            "Epoch 6/100\n",
            "161/161 [==============================] - 9s 55ms/step - loss: 0.3880 - accuracy: 0.9006 - val_loss: 0.4081 - val_accuracy: 0.8953\n",
            "\n",
            "Epoch 00006: val_accuracy improved from 0.88724 to 0.89528, saving model to /content/drive/MyDrive/Colab Notebooks/ASEML\n"
          ],
          "name": "stdout"
        },
        {
          "output_type": "stream",
          "text": [
            "WARNING:absl:Found untraced functions such as lstm_cell_layer_call_fn, lstm_cell_layer_call_and_return_conditional_losses, lstm_cell_1_layer_call_fn, lstm_cell_1_layer_call_and_return_conditional_losses, lstm_cell_layer_call_fn while saving (showing 5 of 10). These functions will not be directly callable after loading.\n",
            "WARNING:absl:Found untraced functions such as lstm_cell_layer_call_fn, lstm_cell_layer_call_and_return_conditional_losses, lstm_cell_1_layer_call_fn, lstm_cell_1_layer_call_and_return_conditional_losses, lstm_cell_layer_call_fn while saving (showing 5 of 10). These functions will not be directly callable after loading.\n"
          ],
          "name": "stderr"
        },
        {
          "output_type": "stream",
          "text": [
            "INFO:tensorflow:Assets written to: /content/drive/MyDrive/Colab Notebooks/ASEML/assets\n"
          ],
          "name": "stdout"
        },
        {
          "output_type": "stream",
          "text": [
            "INFO:tensorflow:Assets written to: /content/drive/MyDrive/Colab Notebooks/ASEML/assets\n"
          ],
          "name": "stderr"
        },
        {
          "output_type": "stream",
          "text": [
            "Epoch 7/100\n",
            "161/161 [==============================] - 9s 56ms/step - loss: 0.3640 - accuracy: 0.9055 - val_loss: 0.3774 - val_accuracy: 0.9034\n",
            "\n",
            "Epoch 00007: val_accuracy improved from 0.89528 to 0.90343, saving model to /content/drive/MyDrive/Colab Notebooks/ASEML\n"
          ],
          "name": "stdout"
        },
        {
          "output_type": "stream",
          "text": [
            "WARNING:absl:Found untraced functions such as lstm_cell_layer_call_fn, lstm_cell_layer_call_and_return_conditional_losses, lstm_cell_1_layer_call_fn, lstm_cell_1_layer_call_and_return_conditional_losses, lstm_cell_layer_call_fn while saving (showing 5 of 10). These functions will not be directly callable after loading.\n",
            "WARNING:absl:Found untraced functions such as lstm_cell_layer_call_fn, lstm_cell_layer_call_and_return_conditional_losses, lstm_cell_1_layer_call_fn, lstm_cell_1_layer_call_and_return_conditional_losses, lstm_cell_layer_call_fn while saving (showing 5 of 10). These functions will not be directly callable after loading.\n"
          ],
          "name": "stderr"
        },
        {
          "output_type": "stream",
          "text": [
            "INFO:tensorflow:Assets written to: /content/drive/MyDrive/Colab Notebooks/ASEML/assets\n"
          ],
          "name": "stdout"
        },
        {
          "output_type": "stream",
          "text": [
            "INFO:tensorflow:Assets written to: /content/drive/MyDrive/Colab Notebooks/ASEML/assets\n"
          ],
          "name": "stderr"
        },
        {
          "output_type": "stream",
          "text": [
            "Epoch 8/100\n",
            "161/161 [==============================] - 9s 55ms/step - loss: 0.3397 - accuracy: 0.9115 - val_loss: 0.3555 - val_accuracy: 0.9074\n",
            "\n",
            "Epoch 00008: val_accuracy improved from 0.90343 to 0.90738, saving model to /content/drive/MyDrive/Colab Notebooks/ASEML\n"
          ],
          "name": "stdout"
        },
        {
          "output_type": "stream",
          "text": [
            "WARNING:absl:Found untraced functions such as lstm_cell_layer_call_fn, lstm_cell_layer_call_and_return_conditional_losses, lstm_cell_1_layer_call_fn, lstm_cell_1_layer_call_and_return_conditional_losses, lstm_cell_layer_call_fn while saving (showing 5 of 10). These functions will not be directly callable after loading.\n",
            "WARNING:absl:Found untraced functions such as lstm_cell_layer_call_fn, lstm_cell_layer_call_and_return_conditional_losses, lstm_cell_1_layer_call_fn, lstm_cell_1_layer_call_and_return_conditional_losses, lstm_cell_layer_call_fn while saving (showing 5 of 10). These functions will not be directly callable after loading.\n"
          ],
          "name": "stderr"
        },
        {
          "output_type": "stream",
          "text": [
            "INFO:tensorflow:Assets written to: /content/drive/MyDrive/Colab Notebooks/ASEML/assets\n"
          ],
          "name": "stdout"
        },
        {
          "output_type": "stream",
          "text": [
            "INFO:tensorflow:Assets written to: /content/drive/MyDrive/Colab Notebooks/ASEML/assets\n"
          ],
          "name": "stderr"
        },
        {
          "output_type": "stream",
          "text": [
            "Epoch 9/100\n",
            "161/161 [==============================] - 9s 55ms/step - loss: 0.3191 - accuracy: 0.9153 - val_loss: 0.3351 - val_accuracy: 0.9128\n",
            "\n",
            "Epoch 00009: val_accuracy improved from 0.90738 to 0.91275, saving model to /content/drive/MyDrive/Colab Notebooks/ASEML\n"
          ],
          "name": "stdout"
        },
        {
          "output_type": "stream",
          "text": [
            "WARNING:absl:Found untraced functions such as lstm_cell_layer_call_fn, lstm_cell_layer_call_and_return_conditional_losses, lstm_cell_1_layer_call_fn, lstm_cell_1_layer_call_and_return_conditional_losses, lstm_cell_layer_call_fn while saving (showing 5 of 10). These functions will not be directly callable after loading.\n",
            "WARNING:absl:Found untraced functions such as lstm_cell_layer_call_fn, lstm_cell_layer_call_and_return_conditional_losses, lstm_cell_1_layer_call_fn, lstm_cell_1_layer_call_and_return_conditional_losses, lstm_cell_layer_call_fn while saving (showing 5 of 10). These functions will not be directly callable after loading.\n"
          ],
          "name": "stderr"
        },
        {
          "output_type": "stream",
          "text": [
            "INFO:tensorflow:Assets written to: /content/drive/MyDrive/Colab Notebooks/ASEML/assets\n"
          ],
          "name": "stdout"
        },
        {
          "output_type": "stream",
          "text": [
            "INFO:tensorflow:Assets written to: /content/drive/MyDrive/Colab Notebooks/ASEML/assets\n"
          ],
          "name": "stderr"
        },
        {
          "output_type": "stream",
          "text": [
            "Epoch 10/100\n",
            "161/161 [==============================] - 9s 56ms/step - loss: 0.3059 - accuracy: 0.9186 - val_loss: 0.3314 - val_accuracy: 0.9137\n",
            "\n",
            "Epoch 00010: val_accuracy improved from 0.91275 to 0.91370, saving model to /content/drive/MyDrive/Colab Notebooks/ASEML\n"
          ],
          "name": "stdout"
        },
        {
          "output_type": "stream",
          "text": [
            "WARNING:absl:Found untraced functions such as lstm_cell_layer_call_fn, lstm_cell_layer_call_and_return_conditional_losses, lstm_cell_1_layer_call_fn, lstm_cell_1_layer_call_and_return_conditional_losses, lstm_cell_layer_call_fn while saving (showing 5 of 10). These functions will not be directly callable after loading.\n",
            "WARNING:absl:Found untraced functions such as lstm_cell_layer_call_fn, lstm_cell_layer_call_and_return_conditional_losses, lstm_cell_1_layer_call_fn, lstm_cell_1_layer_call_and_return_conditional_losses, lstm_cell_layer_call_fn while saving (showing 5 of 10). These functions will not be directly callable after loading.\n"
          ],
          "name": "stderr"
        },
        {
          "output_type": "stream",
          "text": [
            "INFO:tensorflow:Assets written to: /content/drive/MyDrive/Colab Notebooks/ASEML/assets\n"
          ],
          "name": "stdout"
        },
        {
          "output_type": "stream",
          "text": [
            "INFO:tensorflow:Assets written to: /content/drive/MyDrive/Colab Notebooks/ASEML/assets\n"
          ],
          "name": "stderr"
        },
        {
          "output_type": "stream",
          "text": [
            "Epoch 11/100\n",
            "161/161 [==============================] - 9s 55ms/step - loss: 0.2904 - accuracy: 0.9217 - val_loss: 0.3196 - val_accuracy: 0.9169\n",
            "\n",
            "Epoch 00011: val_accuracy improved from 0.91370 to 0.91686, saving model to /content/drive/MyDrive/Colab Notebooks/ASEML\n"
          ],
          "name": "stdout"
        },
        {
          "output_type": "stream",
          "text": [
            "WARNING:absl:Found untraced functions such as lstm_cell_layer_call_fn, lstm_cell_layer_call_and_return_conditional_losses, lstm_cell_1_layer_call_fn, lstm_cell_1_layer_call_and_return_conditional_losses, lstm_cell_layer_call_fn while saving (showing 5 of 10). These functions will not be directly callable after loading.\n",
            "WARNING:absl:Found untraced functions such as lstm_cell_layer_call_fn, lstm_cell_layer_call_and_return_conditional_losses, lstm_cell_1_layer_call_fn, lstm_cell_1_layer_call_and_return_conditional_losses, lstm_cell_layer_call_fn while saving (showing 5 of 10). These functions will not be directly callable after loading.\n"
          ],
          "name": "stderr"
        },
        {
          "output_type": "stream",
          "text": [
            "INFO:tensorflow:Assets written to: /content/drive/MyDrive/Colab Notebooks/ASEML/assets\n"
          ],
          "name": "stdout"
        },
        {
          "output_type": "stream",
          "text": [
            "INFO:tensorflow:Assets written to: /content/drive/MyDrive/Colab Notebooks/ASEML/assets\n"
          ],
          "name": "stderr"
        },
        {
          "output_type": "stream",
          "text": [
            "Epoch 12/100\n",
            "161/161 [==============================] - 9s 55ms/step - loss: 0.2775 - accuracy: 0.9251 - val_loss: 0.3288 - val_accuracy: 0.9133\n",
            "\n",
            "Epoch 00012: val_accuracy did not improve from 0.91686\n",
            "Epoch 13/100\n",
            "161/161 [==============================] - 9s 56ms/step - loss: 0.2733 - accuracy: 0.9261 - val_loss: 0.3154 - val_accuracy: 0.9162\n",
            "\n",
            "Epoch 00013: val_accuracy did not improve from 0.91686\n",
            "Epoch 14/100\n",
            "161/161 [==============================] - 9s 55ms/step - loss: 0.2534 - accuracy: 0.9306 - val_loss: 0.2983 - val_accuracy: 0.9219\n",
            "\n",
            "Epoch 00014: val_accuracy improved from 0.91686 to 0.92191, saving model to /content/drive/MyDrive/Colab Notebooks/ASEML\n"
          ],
          "name": "stdout"
        },
        {
          "output_type": "stream",
          "text": [
            "WARNING:absl:Found untraced functions such as lstm_cell_layer_call_fn, lstm_cell_layer_call_and_return_conditional_losses, lstm_cell_1_layer_call_fn, lstm_cell_1_layer_call_and_return_conditional_losses, lstm_cell_layer_call_fn while saving (showing 5 of 10). These functions will not be directly callable after loading.\n",
            "WARNING:absl:Found untraced functions such as lstm_cell_layer_call_fn, lstm_cell_layer_call_and_return_conditional_losses, lstm_cell_1_layer_call_fn, lstm_cell_1_layer_call_and_return_conditional_losses, lstm_cell_layer_call_fn while saving (showing 5 of 10). These functions will not be directly callable after loading.\n"
          ],
          "name": "stderr"
        },
        {
          "output_type": "stream",
          "text": [
            "INFO:tensorflow:Assets written to: /content/drive/MyDrive/Colab Notebooks/ASEML/assets\n"
          ],
          "name": "stdout"
        },
        {
          "output_type": "stream",
          "text": [
            "INFO:tensorflow:Assets written to: /content/drive/MyDrive/Colab Notebooks/ASEML/assets\n"
          ],
          "name": "stderr"
        },
        {
          "output_type": "stream",
          "text": [
            "Epoch 15/100\n",
            "161/161 [==============================] - 9s 55ms/step - loss: 0.2441 - accuracy: 0.9336 - val_loss: 0.2871 - val_accuracy: 0.9246\n",
            "\n",
            "Epoch 00015: val_accuracy improved from 0.92191 to 0.92459, saving model to /content/drive/MyDrive/Colab Notebooks/ASEML\n"
          ],
          "name": "stdout"
        },
        {
          "output_type": "stream",
          "text": [
            "WARNING:absl:Found untraced functions such as lstm_cell_layer_call_fn, lstm_cell_layer_call_and_return_conditional_losses, lstm_cell_1_layer_call_fn, lstm_cell_1_layer_call_and_return_conditional_losses, lstm_cell_layer_call_fn while saving (showing 5 of 10). These functions will not be directly callable after loading.\n",
            "WARNING:absl:Found untraced functions such as lstm_cell_layer_call_fn, lstm_cell_layer_call_and_return_conditional_losses, lstm_cell_1_layer_call_fn, lstm_cell_1_layer_call_and_return_conditional_losses, lstm_cell_layer_call_fn while saving (showing 5 of 10). These functions will not be directly callable after loading.\n"
          ],
          "name": "stderr"
        },
        {
          "output_type": "stream",
          "text": [
            "INFO:tensorflow:Assets written to: /content/drive/MyDrive/Colab Notebooks/ASEML/assets\n"
          ],
          "name": "stdout"
        },
        {
          "output_type": "stream",
          "text": [
            "INFO:tensorflow:Assets written to: /content/drive/MyDrive/Colab Notebooks/ASEML/assets\n"
          ],
          "name": "stderr"
        },
        {
          "output_type": "stream",
          "text": [
            "Epoch 16/100\n",
            "161/161 [==============================] - 9s 56ms/step - loss: 0.2377 - accuracy: 0.9348 - val_loss: 0.2821 - val_accuracy: 0.9253\n",
            "\n",
            "Epoch 00016: val_accuracy improved from 0.92459 to 0.92534, saving model to /content/drive/MyDrive/Colab Notebooks/ASEML\n"
          ],
          "name": "stdout"
        },
        {
          "output_type": "stream",
          "text": [
            "WARNING:absl:Found untraced functions such as lstm_cell_layer_call_fn, lstm_cell_layer_call_and_return_conditional_losses, lstm_cell_1_layer_call_fn, lstm_cell_1_layer_call_and_return_conditional_losses, lstm_cell_layer_call_fn while saving (showing 5 of 10). These functions will not be directly callable after loading.\n",
            "WARNING:absl:Found untraced functions such as lstm_cell_layer_call_fn, lstm_cell_layer_call_and_return_conditional_losses, lstm_cell_1_layer_call_fn, lstm_cell_1_layer_call_and_return_conditional_losses, lstm_cell_layer_call_fn while saving (showing 5 of 10). These functions will not be directly callable after loading.\n"
          ],
          "name": "stderr"
        },
        {
          "output_type": "stream",
          "text": [
            "INFO:tensorflow:Assets written to: /content/drive/MyDrive/Colab Notebooks/ASEML/assets\n"
          ],
          "name": "stdout"
        },
        {
          "output_type": "stream",
          "text": [
            "INFO:tensorflow:Assets written to: /content/drive/MyDrive/Colab Notebooks/ASEML/assets\n"
          ],
          "name": "stderr"
        },
        {
          "output_type": "stream",
          "text": [
            "Epoch 17/100\n",
            "161/161 [==============================] - 9s 55ms/step - loss: 0.2299 - accuracy: 0.9366 - val_loss: 0.2723 - val_accuracy: 0.9276\n",
            "\n",
            "Epoch 00017: val_accuracy improved from 0.92534 to 0.92763, saving model to /content/drive/MyDrive/Colab Notebooks/ASEML\n"
          ],
          "name": "stdout"
        },
        {
          "output_type": "stream",
          "text": [
            "WARNING:absl:Found untraced functions such as lstm_cell_layer_call_fn, lstm_cell_layer_call_and_return_conditional_losses, lstm_cell_1_layer_call_fn, lstm_cell_1_layer_call_and_return_conditional_losses, lstm_cell_layer_call_fn while saving (showing 5 of 10). These functions will not be directly callable after loading.\n",
            "WARNING:absl:Found untraced functions such as lstm_cell_layer_call_fn, lstm_cell_layer_call_and_return_conditional_losses, lstm_cell_1_layer_call_fn, lstm_cell_1_layer_call_and_return_conditional_losses, lstm_cell_layer_call_fn while saving (showing 5 of 10). These functions will not be directly callable after loading.\n"
          ],
          "name": "stderr"
        },
        {
          "output_type": "stream",
          "text": [
            "INFO:tensorflow:Assets written to: /content/drive/MyDrive/Colab Notebooks/ASEML/assets\n"
          ],
          "name": "stdout"
        },
        {
          "output_type": "stream",
          "text": [
            "INFO:tensorflow:Assets written to: /content/drive/MyDrive/Colab Notebooks/ASEML/assets\n"
          ],
          "name": "stderr"
        },
        {
          "output_type": "stream",
          "text": [
            "Epoch 18/100\n",
            "161/161 [==============================] - 9s 55ms/step - loss: 0.2198 - accuracy: 0.9387 - val_loss: 0.2711 - val_accuracy: 0.9281\n",
            "\n",
            "Epoch 00018: val_accuracy improved from 0.92763 to 0.92805, saving model to /content/drive/MyDrive/Colab Notebooks/ASEML\n"
          ],
          "name": "stdout"
        },
        {
          "output_type": "stream",
          "text": [
            "WARNING:absl:Found untraced functions such as lstm_cell_layer_call_fn, lstm_cell_layer_call_and_return_conditional_losses, lstm_cell_1_layer_call_fn, lstm_cell_1_layer_call_and_return_conditional_losses, lstm_cell_layer_call_fn while saving (showing 5 of 10). These functions will not be directly callable after loading.\n",
            "WARNING:absl:Found untraced functions such as lstm_cell_layer_call_fn, lstm_cell_layer_call_and_return_conditional_losses, lstm_cell_1_layer_call_fn, lstm_cell_1_layer_call_and_return_conditional_losses, lstm_cell_layer_call_fn while saving (showing 5 of 10). These functions will not be directly callable after loading.\n"
          ],
          "name": "stderr"
        },
        {
          "output_type": "stream",
          "text": [
            "INFO:tensorflow:Assets written to: /content/drive/MyDrive/Colab Notebooks/ASEML/assets\n"
          ],
          "name": "stdout"
        },
        {
          "output_type": "stream",
          "text": [
            "INFO:tensorflow:Assets written to: /content/drive/MyDrive/Colab Notebooks/ASEML/assets\n"
          ],
          "name": "stderr"
        },
        {
          "output_type": "stream",
          "text": [
            "Epoch 19/100\n",
            "161/161 [==============================] - 9s 56ms/step - loss: 0.2086 - accuracy: 0.9417 - val_loss: 0.2757 - val_accuracy: 0.9274\n",
            "\n",
            "Epoch 00019: val_accuracy did not improve from 0.92805\n",
            "Epoch 20/100\n",
            "161/161 [==============================] - 9s 55ms/step - loss: 0.2042 - accuracy: 0.9427 - val_loss: 0.2666 - val_accuracy: 0.9294\n",
            "\n",
            "Epoch 00020: val_accuracy improved from 0.92805 to 0.92938, saving model to /content/drive/MyDrive/Colab Notebooks/ASEML\n"
          ],
          "name": "stdout"
        },
        {
          "output_type": "stream",
          "text": [
            "WARNING:absl:Found untraced functions such as lstm_cell_layer_call_fn, lstm_cell_layer_call_and_return_conditional_losses, lstm_cell_1_layer_call_fn, lstm_cell_1_layer_call_and_return_conditional_losses, lstm_cell_layer_call_fn while saving (showing 5 of 10). These functions will not be directly callable after loading.\n",
            "WARNING:absl:Found untraced functions such as lstm_cell_layer_call_fn, lstm_cell_layer_call_and_return_conditional_losses, lstm_cell_1_layer_call_fn, lstm_cell_1_layer_call_and_return_conditional_losses, lstm_cell_layer_call_fn while saving (showing 5 of 10). These functions will not be directly callable after loading.\n"
          ],
          "name": "stderr"
        },
        {
          "output_type": "stream",
          "text": [
            "INFO:tensorflow:Assets written to: /content/drive/MyDrive/Colab Notebooks/ASEML/assets\n"
          ],
          "name": "stdout"
        },
        {
          "output_type": "stream",
          "text": [
            "INFO:tensorflow:Assets written to: /content/drive/MyDrive/Colab Notebooks/ASEML/assets\n"
          ],
          "name": "stderr"
        },
        {
          "output_type": "stream",
          "text": [
            "Epoch 21/100\n",
            "161/161 [==============================] - 9s 55ms/step - loss: 0.1939 - accuracy: 0.9450 - val_loss: 0.2577 - val_accuracy: 0.9316\n",
            "\n",
            "Epoch 00021: val_accuracy improved from 0.92938 to 0.93161, saving model to /content/drive/MyDrive/Colab Notebooks/ASEML\n"
          ],
          "name": "stdout"
        },
        {
          "output_type": "stream",
          "text": [
            "WARNING:absl:Found untraced functions such as lstm_cell_layer_call_fn, lstm_cell_layer_call_and_return_conditional_losses, lstm_cell_1_layer_call_fn, lstm_cell_1_layer_call_and_return_conditional_losses, lstm_cell_layer_call_fn while saving (showing 5 of 10). These functions will not be directly callable after loading.\n",
            "WARNING:absl:Found untraced functions such as lstm_cell_layer_call_fn, lstm_cell_layer_call_and_return_conditional_losses, lstm_cell_1_layer_call_fn, lstm_cell_1_layer_call_and_return_conditional_losses, lstm_cell_layer_call_fn while saving (showing 5 of 10). These functions will not be directly callable after loading.\n"
          ],
          "name": "stderr"
        },
        {
          "output_type": "stream",
          "text": [
            "INFO:tensorflow:Assets written to: /content/drive/MyDrive/Colab Notebooks/ASEML/assets\n"
          ],
          "name": "stdout"
        },
        {
          "output_type": "stream",
          "text": [
            "INFO:tensorflow:Assets written to: /content/drive/MyDrive/Colab Notebooks/ASEML/assets\n"
          ],
          "name": "stderr"
        },
        {
          "output_type": "stream",
          "text": [
            "Epoch 22/100\n",
            "161/161 [==============================] - 9s 57ms/step - loss: 0.1868 - accuracy: 0.9468 - val_loss: 0.2616 - val_accuracy: 0.9313\n",
            "\n",
            "Epoch 00022: val_accuracy did not improve from 0.93161\n",
            "Epoch 23/100\n",
            "161/161 [==============================] - 9s 56ms/step - loss: 0.1770 - accuracy: 0.9497 - val_loss: 0.2552 - val_accuracy: 0.9324\n",
            "\n",
            "Epoch 00023: val_accuracy improved from 0.93161 to 0.93243, saving model to /content/drive/MyDrive/Colab Notebooks/ASEML\n"
          ],
          "name": "stdout"
        },
        {
          "output_type": "stream",
          "text": [
            "WARNING:absl:Found untraced functions such as lstm_cell_layer_call_fn, lstm_cell_layer_call_and_return_conditional_losses, lstm_cell_1_layer_call_fn, lstm_cell_1_layer_call_and_return_conditional_losses, lstm_cell_layer_call_fn while saving (showing 5 of 10). These functions will not be directly callable after loading.\n",
            "WARNING:absl:Found untraced functions such as lstm_cell_layer_call_fn, lstm_cell_layer_call_and_return_conditional_losses, lstm_cell_1_layer_call_fn, lstm_cell_1_layer_call_and_return_conditional_losses, lstm_cell_layer_call_fn while saving (showing 5 of 10). These functions will not be directly callable after loading.\n"
          ],
          "name": "stderr"
        },
        {
          "output_type": "stream",
          "text": [
            "INFO:tensorflow:Assets written to: /content/drive/MyDrive/Colab Notebooks/ASEML/assets\n"
          ],
          "name": "stdout"
        },
        {
          "output_type": "stream",
          "text": [
            "INFO:tensorflow:Assets written to: /content/drive/MyDrive/Colab Notebooks/ASEML/assets\n"
          ],
          "name": "stderr"
        },
        {
          "output_type": "stream",
          "text": [
            "Epoch 24/100\n",
            "161/161 [==============================] - 9s 55ms/step - loss: 0.1753 - accuracy: 0.9501 - val_loss: 0.2553 - val_accuracy: 0.9332\n",
            "\n",
            "Epoch 00024: val_accuracy improved from 0.93243 to 0.93323, saving model to /content/drive/MyDrive/Colab Notebooks/ASEML\n"
          ],
          "name": "stdout"
        },
        {
          "output_type": "stream",
          "text": [
            "WARNING:absl:Found untraced functions such as lstm_cell_layer_call_fn, lstm_cell_layer_call_and_return_conditional_losses, lstm_cell_1_layer_call_fn, lstm_cell_1_layer_call_and_return_conditional_losses, lstm_cell_layer_call_fn while saving (showing 5 of 10). These functions will not be directly callable after loading.\n",
            "WARNING:absl:Found untraced functions such as lstm_cell_layer_call_fn, lstm_cell_layer_call_and_return_conditional_losses, lstm_cell_1_layer_call_fn, lstm_cell_1_layer_call_and_return_conditional_losses, lstm_cell_layer_call_fn while saving (showing 5 of 10). These functions will not be directly callable after loading.\n"
          ],
          "name": "stderr"
        },
        {
          "output_type": "stream",
          "text": [
            "INFO:tensorflow:Assets written to: /content/drive/MyDrive/Colab Notebooks/ASEML/assets\n"
          ],
          "name": "stdout"
        },
        {
          "output_type": "stream",
          "text": [
            "INFO:tensorflow:Assets written to: /content/drive/MyDrive/Colab Notebooks/ASEML/assets\n"
          ],
          "name": "stderr"
        },
        {
          "output_type": "stream",
          "text": [
            "Epoch 25/100\n",
            "161/161 [==============================] - 9s 56ms/step - loss: 0.1666 - accuracy: 0.9517 - val_loss: 0.2546 - val_accuracy: 0.9323\n",
            "\n",
            "Epoch 00025: val_accuracy did not improve from 0.93323\n",
            "Epoch 26/100\n",
            "161/161 [==============================] - 9s 55ms/step - loss: 0.1632 - accuracy: 0.9531 - val_loss: 0.2568 - val_accuracy: 0.9318\n",
            "\n",
            "Epoch 00026: val_accuracy did not improve from 0.93323\n",
            "Epoch 27/100\n",
            "161/161 [==============================] - 9s 55ms/step - loss: 0.1526 - accuracy: 0.9556 - val_loss: 0.2511 - val_accuracy: 0.9338\n",
            "\n",
            "Epoch 00027: val_accuracy improved from 0.93323 to 0.93378, saving model to /content/drive/MyDrive/Colab Notebooks/ASEML\n"
          ],
          "name": "stdout"
        },
        {
          "output_type": "stream",
          "text": [
            "WARNING:absl:Found untraced functions such as lstm_cell_layer_call_fn, lstm_cell_layer_call_and_return_conditional_losses, lstm_cell_1_layer_call_fn, lstm_cell_1_layer_call_and_return_conditional_losses, lstm_cell_layer_call_fn while saving (showing 5 of 10). These functions will not be directly callable after loading.\n",
            "WARNING:absl:Found untraced functions such as lstm_cell_layer_call_fn, lstm_cell_layer_call_and_return_conditional_losses, lstm_cell_1_layer_call_fn, lstm_cell_1_layer_call_and_return_conditional_losses, lstm_cell_layer_call_fn while saving (showing 5 of 10). These functions will not be directly callable after loading.\n"
          ],
          "name": "stderr"
        },
        {
          "output_type": "stream",
          "text": [
            "INFO:tensorflow:Assets written to: /content/drive/MyDrive/Colab Notebooks/ASEML/assets\n"
          ],
          "name": "stdout"
        },
        {
          "output_type": "stream",
          "text": [
            "INFO:tensorflow:Assets written to: /content/drive/MyDrive/Colab Notebooks/ASEML/assets\n"
          ],
          "name": "stderr"
        },
        {
          "output_type": "stream",
          "text": [
            "Epoch 28/100\n",
            "161/161 [==============================] - 9s 55ms/step - loss: 0.1470 - accuracy: 0.9568 - val_loss: 0.2502 - val_accuracy: 0.9355\n",
            "\n",
            "Epoch 00028: val_accuracy improved from 0.93378 to 0.93550, saving model to /content/drive/MyDrive/Colab Notebooks/ASEML\n"
          ],
          "name": "stdout"
        },
        {
          "output_type": "stream",
          "text": [
            "WARNING:absl:Found untraced functions such as lstm_cell_layer_call_fn, lstm_cell_layer_call_and_return_conditional_losses, lstm_cell_1_layer_call_fn, lstm_cell_1_layer_call_and_return_conditional_losses, lstm_cell_layer_call_fn while saving (showing 5 of 10). These functions will not be directly callable after loading.\n",
            "WARNING:absl:Found untraced functions such as lstm_cell_layer_call_fn, lstm_cell_layer_call_and_return_conditional_losses, lstm_cell_1_layer_call_fn, lstm_cell_1_layer_call_and_return_conditional_losses, lstm_cell_layer_call_fn while saving (showing 5 of 10). These functions will not be directly callable after loading.\n"
          ],
          "name": "stderr"
        },
        {
          "output_type": "stream",
          "text": [
            "INFO:tensorflow:Assets written to: /content/drive/MyDrive/Colab Notebooks/ASEML/assets\n"
          ],
          "name": "stdout"
        },
        {
          "output_type": "stream",
          "text": [
            "INFO:tensorflow:Assets written to: /content/drive/MyDrive/Colab Notebooks/ASEML/assets\n"
          ],
          "name": "stderr"
        },
        {
          "output_type": "stream",
          "text": [
            "Epoch 29/100\n",
            "161/161 [==============================] - 9s 56ms/step - loss: 0.1430 - accuracy: 0.9580 - val_loss: 0.2467 - val_accuracy: 0.9356\n",
            "\n",
            "Epoch 00029: val_accuracy improved from 0.93550 to 0.93564, saving model to /content/drive/MyDrive/Colab Notebooks/ASEML\n"
          ],
          "name": "stdout"
        },
        {
          "output_type": "stream",
          "text": [
            "WARNING:absl:Found untraced functions such as lstm_cell_layer_call_fn, lstm_cell_layer_call_and_return_conditional_losses, lstm_cell_1_layer_call_fn, lstm_cell_1_layer_call_and_return_conditional_losses, lstm_cell_layer_call_fn while saving (showing 5 of 10). These functions will not be directly callable after loading.\n",
            "WARNING:absl:Found untraced functions such as lstm_cell_layer_call_fn, lstm_cell_layer_call_and_return_conditional_losses, lstm_cell_1_layer_call_fn, lstm_cell_1_layer_call_and_return_conditional_losses, lstm_cell_layer_call_fn while saving (showing 5 of 10). These functions will not be directly callable after loading.\n"
          ],
          "name": "stderr"
        },
        {
          "output_type": "stream",
          "text": [
            "INFO:tensorflow:Assets written to: /content/drive/MyDrive/Colab Notebooks/ASEML/assets\n"
          ],
          "name": "stdout"
        },
        {
          "output_type": "stream",
          "text": [
            "INFO:tensorflow:Assets written to: /content/drive/MyDrive/Colab Notebooks/ASEML/assets\n"
          ],
          "name": "stderr"
        },
        {
          "output_type": "stream",
          "text": [
            "Epoch 30/100\n",
            "161/161 [==============================] - 9s 55ms/step - loss: 0.1381 - accuracy: 0.9593 - val_loss: 0.2470 - val_accuracy: 0.9352\n",
            "\n",
            "Epoch 00030: val_accuracy did not improve from 0.93564\n",
            "Epoch 31/100\n",
            "161/161 [==============================] - 9s 55ms/step - loss: 0.1341 - accuracy: 0.9604 - val_loss: 0.2401 - val_accuracy: 0.9378\n",
            "\n",
            "Epoch 00031: val_accuracy improved from 0.93564 to 0.93781, saving model to /content/drive/MyDrive/Colab Notebooks/ASEML\n"
          ],
          "name": "stdout"
        },
        {
          "output_type": "stream",
          "text": [
            "WARNING:absl:Found untraced functions such as lstm_cell_layer_call_fn, lstm_cell_layer_call_and_return_conditional_losses, lstm_cell_1_layer_call_fn, lstm_cell_1_layer_call_and_return_conditional_losses, lstm_cell_layer_call_fn while saving (showing 5 of 10). These functions will not be directly callable after loading.\n",
            "WARNING:absl:Found untraced functions such as lstm_cell_layer_call_fn, lstm_cell_layer_call_and_return_conditional_losses, lstm_cell_1_layer_call_fn, lstm_cell_1_layer_call_and_return_conditional_losses, lstm_cell_layer_call_fn while saving (showing 5 of 10). These functions will not be directly callable after loading.\n"
          ],
          "name": "stderr"
        },
        {
          "output_type": "stream",
          "text": [
            "INFO:tensorflow:Assets written to: /content/drive/MyDrive/Colab Notebooks/ASEML/assets\n"
          ],
          "name": "stdout"
        },
        {
          "output_type": "stream",
          "text": [
            "INFO:tensorflow:Assets written to: /content/drive/MyDrive/Colab Notebooks/ASEML/assets\n"
          ],
          "name": "stderr"
        },
        {
          "output_type": "stream",
          "text": [
            "Epoch 32/100\n",
            "161/161 [==============================] - 9s 57ms/step - loss: 0.1277 - accuracy: 0.9621 - val_loss: 0.2544 - val_accuracy: 0.9349\n",
            "\n",
            "Epoch 00032: val_accuracy did not improve from 0.93781\n",
            "Epoch 33/100\n",
            "161/161 [==============================] - 9s 55ms/step - loss: 0.1243 - accuracy: 0.9627 - val_loss: 0.2455 - val_accuracy: 0.9364\n",
            "\n",
            "Epoch 00033: val_accuracy did not improve from 0.93781\n",
            "Epoch 34/100\n",
            "161/161 [==============================] - 9s 56ms/step - loss: 0.1188 - accuracy: 0.9647 - val_loss: 0.2487 - val_accuracy: 0.9365\n",
            "\n",
            "Epoch 00034: val_accuracy did not improve from 0.93781\n",
            "Epoch 35/100\n",
            "161/161 [==============================] - 9s 55ms/step - loss: 0.1131 - accuracy: 0.9660 - val_loss: 0.2458 - val_accuracy: 0.9381\n",
            "\n",
            "Epoch 00035: val_accuracy improved from 0.93781 to 0.93811, saving model to /content/drive/MyDrive/Colab Notebooks/ASEML\n"
          ],
          "name": "stdout"
        },
        {
          "output_type": "stream",
          "text": [
            "WARNING:absl:Found untraced functions such as lstm_cell_layer_call_fn, lstm_cell_layer_call_and_return_conditional_losses, lstm_cell_1_layer_call_fn, lstm_cell_1_layer_call_and_return_conditional_losses, lstm_cell_layer_call_fn while saving (showing 5 of 10). These functions will not be directly callable after loading.\n",
            "WARNING:absl:Found untraced functions such as lstm_cell_layer_call_fn, lstm_cell_layer_call_and_return_conditional_losses, lstm_cell_1_layer_call_fn, lstm_cell_1_layer_call_and_return_conditional_losses, lstm_cell_layer_call_fn while saving (showing 5 of 10). These functions will not be directly callable after loading.\n"
          ],
          "name": "stderr"
        },
        {
          "output_type": "stream",
          "text": [
            "INFO:tensorflow:Assets written to: /content/drive/MyDrive/Colab Notebooks/ASEML/assets\n"
          ],
          "name": "stdout"
        },
        {
          "output_type": "stream",
          "text": [
            "INFO:tensorflow:Assets written to: /content/drive/MyDrive/Colab Notebooks/ASEML/assets\n"
          ],
          "name": "stderr"
        },
        {
          "output_type": "stream",
          "text": [
            "Epoch 36/100\n",
            "161/161 [==============================] - 9s 56ms/step - loss: 0.1087 - accuracy: 0.9671 - val_loss: 0.2380 - val_accuracy: 0.9396\n",
            "\n",
            "Epoch 00036: val_accuracy improved from 0.93811 to 0.93960, saving model to /content/drive/MyDrive/Colab Notebooks/ASEML\n"
          ],
          "name": "stdout"
        },
        {
          "output_type": "stream",
          "text": [
            "WARNING:absl:Found untraced functions such as lstm_cell_layer_call_fn, lstm_cell_layer_call_and_return_conditional_losses, lstm_cell_1_layer_call_fn, lstm_cell_1_layer_call_and_return_conditional_losses, lstm_cell_layer_call_fn while saving (showing 5 of 10). These functions will not be directly callable after loading.\n",
            "WARNING:absl:Found untraced functions such as lstm_cell_layer_call_fn, lstm_cell_layer_call_and_return_conditional_losses, lstm_cell_1_layer_call_fn, lstm_cell_1_layer_call_and_return_conditional_losses, lstm_cell_layer_call_fn while saving (showing 5 of 10). These functions will not be directly callable after loading.\n"
          ],
          "name": "stderr"
        },
        {
          "output_type": "stream",
          "text": [
            "INFO:tensorflow:Assets written to: /content/drive/MyDrive/Colab Notebooks/ASEML/assets\n"
          ],
          "name": "stdout"
        },
        {
          "output_type": "stream",
          "text": [
            "INFO:tensorflow:Assets written to: /content/drive/MyDrive/Colab Notebooks/ASEML/assets\n"
          ],
          "name": "stderr"
        },
        {
          "output_type": "stream",
          "text": [
            "Epoch 37/100\n",
            "161/161 [==============================] - 9s 56ms/step - loss: 0.1068 - accuracy: 0.9678 - val_loss: 0.2409 - val_accuracy: 0.9394\n",
            "\n",
            "Epoch 00037: val_accuracy did not improve from 0.93960\n",
            "Epoch 38/100\n",
            "161/161 [==============================] - 9s 55ms/step - loss: 0.1013 - accuracy: 0.9689 - val_loss: 0.2561 - val_accuracy: 0.9367\n",
            "\n",
            "Epoch 00038: val_accuracy did not improve from 0.93960\n",
            "Epoch 39/100\n",
            "161/161 [==============================] - 9s 55ms/step - loss: 0.0990 - accuracy: 0.9701 - val_loss: 0.2466 - val_accuracy: 0.9389\n",
            "\n",
            "Epoch 00039: val_accuracy did not improve from 0.93960\n",
            "Epoch 40/100\n",
            "161/161 [==============================] - 9s 56ms/step - loss: 0.0935 - accuracy: 0.9713 - val_loss: 0.2479 - val_accuracy: 0.9381\n",
            "\n",
            "Epoch 00040: val_accuracy did not improve from 0.93960\n",
            "Epoch 41/100\n",
            "161/161 [==============================] - 9s 56ms/step - loss: 0.0903 - accuracy: 0.9721 - val_loss: 0.2573 - val_accuracy: 0.9369\n",
            "\n",
            "Epoch 00041: val_accuracy did not improve from 0.93960\n",
            "Epoch 42/100\n",
            "161/161 [==============================] - 9s 55ms/step - loss: 0.0881 - accuracy: 0.9729 - val_loss: 0.2543 - val_accuracy: 0.9366\n",
            "\n",
            "Epoch 00042: val_accuracy did not improve from 0.93960\n",
            "Epoch 43/100\n",
            "161/161 [==============================] - 9s 55ms/step - loss: 0.0863 - accuracy: 0.9736 - val_loss: 0.3034 - val_accuracy: 0.9277\n",
            "\n",
            "Epoch 00043: val_accuracy did not improve from 0.93960\n",
            "Epoch 44/100\n",
            "161/161 [==============================] - 9s 55ms/step - loss: 0.0831 - accuracy: 0.9746 - val_loss: 0.2543 - val_accuracy: 0.9395\n",
            "\n",
            "Epoch 00044: val_accuracy did not improve from 0.93960\n",
            "Epoch 45/100\n",
            "161/161 [==============================] - 9s 55ms/step - loss: 0.0775 - accuracy: 0.9759 - val_loss: 0.2853 - val_accuracy: 0.9327\n",
            "\n",
            "Epoch 00045: val_accuracy did not improve from 0.93960\n",
            "Epoch 46/100\n",
            "161/161 [==============================] - 9s 56ms/step - loss: 0.0774 - accuracy: 0.9762 - val_loss: 0.2550 - val_accuracy: 0.9394\n",
            "\n",
            "Epoch 00046: val_accuracy did not improve from 0.93960\n",
            "Epoch 47/100\n",
            "161/161 [==============================] - 9s 55ms/step - loss: 0.0714 - accuracy: 0.9777 - val_loss: 0.2596 - val_accuracy: 0.9396\n",
            "\n",
            "Epoch 00047: val_accuracy improved from 0.93960 to 0.93964, saving model to /content/drive/MyDrive/Colab Notebooks/ASEML\n"
          ],
          "name": "stdout"
        },
        {
          "output_type": "stream",
          "text": [
            "WARNING:absl:Found untraced functions such as lstm_cell_layer_call_fn, lstm_cell_layer_call_and_return_conditional_losses, lstm_cell_1_layer_call_fn, lstm_cell_1_layer_call_and_return_conditional_losses, lstm_cell_layer_call_fn while saving (showing 5 of 10). These functions will not be directly callable after loading.\n",
            "WARNING:absl:Found untraced functions such as lstm_cell_layer_call_fn, lstm_cell_layer_call_and_return_conditional_losses, lstm_cell_1_layer_call_fn, lstm_cell_1_layer_call_and_return_conditional_losses, lstm_cell_layer_call_fn while saving (showing 5 of 10). These functions will not be directly callable after loading.\n"
          ],
          "name": "stderr"
        },
        {
          "output_type": "stream",
          "text": [
            "INFO:tensorflow:Assets written to: /content/drive/MyDrive/Colab Notebooks/ASEML/assets\n"
          ],
          "name": "stdout"
        },
        {
          "output_type": "stream",
          "text": [
            "INFO:tensorflow:Assets written to: /content/drive/MyDrive/Colab Notebooks/ASEML/assets\n"
          ],
          "name": "stderr"
        },
        {
          "output_type": "stream",
          "text": [
            "Epoch 48/100\n",
            "161/161 [==============================] - 9s 57ms/step - loss: 0.0693 - accuracy: 0.9783 - val_loss: 0.2604 - val_accuracy: 0.9393\n",
            "\n",
            "Epoch 00048: val_accuracy did not improve from 0.93964\n",
            "Epoch 49/100\n",
            "161/161 [==============================] - 9s 56ms/step - loss: 0.0662 - accuracy: 0.9792 - val_loss: 0.2838 - val_accuracy: 0.9350\n",
            "\n",
            "Epoch 00049: val_accuracy did not improve from 0.93964\n",
            "Epoch 50/100\n",
            "161/161 [==============================] - 9s 56ms/step - loss: 0.0675 - accuracy: 0.9789 - val_loss: 0.2750 - val_accuracy: 0.9367\n",
            "\n",
            "Epoch 00050: val_accuracy did not improve from 0.93964\n",
            "Epoch 51/100\n",
            "161/161 [==============================] - 9s 56ms/step - loss: 0.0622 - accuracy: 0.9801 - val_loss: 0.2652 - val_accuracy: 0.9400\n",
            "\n",
            "Epoch 00051: val_accuracy improved from 0.93964 to 0.93998, saving model to /content/drive/MyDrive/Colab Notebooks/ASEML\n"
          ],
          "name": "stdout"
        },
        {
          "output_type": "stream",
          "text": [
            "WARNING:absl:Found untraced functions such as lstm_cell_layer_call_fn, lstm_cell_layer_call_and_return_conditional_losses, lstm_cell_1_layer_call_fn, lstm_cell_1_layer_call_and_return_conditional_losses, lstm_cell_layer_call_fn while saving (showing 5 of 10). These functions will not be directly callable after loading.\n",
            "WARNING:absl:Found untraced functions such as lstm_cell_layer_call_fn, lstm_cell_layer_call_and_return_conditional_losses, lstm_cell_1_layer_call_fn, lstm_cell_1_layer_call_and_return_conditional_losses, lstm_cell_layer_call_fn while saving (showing 5 of 10). These functions will not be directly callable after loading.\n"
          ],
          "name": "stderr"
        },
        {
          "output_type": "stream",
          "text": [
            "INFO:tensorflow:Assets written to: /content/drive/MyDrive/Colab Notebooks/ASEML/assets\n"
          ],
          "name": "stdout"
        },
        {
          "output_type": "stream",
          "text": [
            "INFO:tensorflow:Assets written to: /content/drive/MyDrive/Colab Notebooks/ASEML/assets\n"
          ],
          "name": "stderr"
        },
        {
          "output_type": "stream",
          "text": [
            "Epoch 52/100\n",
            "161/161 [==============================] - 9s 58ms/step - loss: 0.0606 - accuracy: 0.9809 - val_loss: 0.2736 - val_accuracy: 0.9386\n",
            "\n",
            "Epoch 00052: val_accuracy did not improve from 0.93998\n",
            "Epoch 53/100\n",
            "161/161 [==============================] - 9s 56ms/step - loss: 0.0575 - accuracy: 0.9822 - val_loss: 0.2721 - val_accuracy: 0.9385\n",
            "\n",
            "Epoch 00053: val_accuracy did not improve from 0.93998\n",
            "Epoch 54/100\n",
            "161/161 [==============================] - 9s 56ms/step - loss: 0.0569 - accuracy: 0.9820 - val_loss: 0.2706 - val_accuracy: 0.9395\n",
            "\n",
            "Epoch 00054: val_accuracy did not improve from 0.93998\n",
            "Epoch 55/100\n",
            "161/161 [==============================] - 9s 56ms/step - loss: 0.0543 - accuracy: 0.9821 - val_loss: 0.2721 - val_accuracy: 0.9399\n",
            "\n",
            "Epoch 00055: val_accuracy did not improve from 0.93998\n",
            "Epoch 56/100\n",
            "161/161 [==============================] - 9s 55ms/step - loss: 0.0513 - accuracy: 0.9838 - val_loss: 0.2778 - val_accuracy: 0.9392\n",
            "\n",
            "Epoch 00056: val_accuracy did not improve from 0.93998\n",
            "Epoch 57/100\n",
            "161/161 [==============================] - 9s 56ms/step - loss: 0.0508 - accuracy: 0.9834 - val_loss: 0.2773 - val_accuracy: 0.9391\n",
            "\n",
            "Epoch 00057: val_accuracy did not improve from 0.93998\n",
            "Epoch 58/100\n",
            "161/161 [==============================] - 9s 58ms/step - loss: 0.0491 - accuracy: 0.9841 - val_loss: 0.2764 - val_accuracy: 0.9405\n",
            "\n",
            "Epoch 00058: val_accuracy improved from 0.93998 to 0.94050, saving model to /content/drive/MyDrive/Colab Notebooks/ASEML\n"
          ],
          "name": "stdout"
        },
        {
          "output_type": "stream",
          "text": [
            "WARNING:absl:Found untraced functions such as lstm_cell_layer_call_fn, lstm_cell_layer_call_and_return_conditional_losses, lstm_cell_1_layer_call_fn, lstm_cell_1_layer_call_and_return_conditional_losses, lstm_cell_layer_call_fn while saving (showing 5 of 10). These functions will not be directly callable after loading.\n",
            "WARNING:absl:Found untraced functions such as lstm_cell_layer_call_fn, lstm_cell_layer_call_and_return_conditional_losses, lstm_cell_1_layer_call_fn, lstm_cell_1_layer_call_and_return_conditional_losses, lstm_cell_layer_call_fn while saving (showing 5 of 10). These functions will not be directly callable after loading.\n"
          ],
          "name": "stderr"
        },
        {
          "output_type": "stream",
          "text": [
            "INFO:tensorflow:Assets written to: /content/drive/MyDrive/Colab Notebooks/ASEML/assets\n"
          ],
          "name": "stdout"
        },
        {
          "output_type": "stream",
          "text": [
            "INFO:tensorflow:Assets written to: /content/drive/MyDrive/Colab Notebooks/ASEML/assets\n"
          ],
          "name": "stderr"
        },
        {
          "output_type": "stream",
          "text": [
            "Epoch 59/100\n",
            "161/161 [==============================] - 9s 56ms/step - loss: 0.0464 - accuracy: 0.9855 - val_loss: 0.2851 - val_accuracy: 0.9387\n",
            "\n",
            "Epoch 00059: val_accuracy did not improve from 0.94050\n",
            "Epoch 60/100\n",
            "161/161 [==============================] - 9s 56ms/step - loss: 0.0446 - accuracy: 0.9858 - val_loss: 0.2841 - val_accuracy: 0.9391\n",
            "\n",
            "Epoch 00060: val_accuracy did not improve from 0.94050\n",
            "Epoch 61/100\n",
            "161/161 [==============================] - 9s 56ms/step - loss: 0.0445 - accuracy: 0.9854 - val_loss: 0.2918 - val_accuracy: 0.9380\n",
            "\n",
            "Epoch 00061: val_accuracy did not improve from 0.94050\n",
            "Epoch 62/100\n",
            "161/161 [==============================] - 9s 56ms/step - loss: 0.0421 - accuracy: 0.9865 - val_loss: 0.2924 - val_accuracy: 0.9398\n",
            "\n",
            "Epoch 00062: val_accuracy did not improve from 0.94050\n",
            "Epoch 63/100\n",
            "161/161 [==============================] - 9s 56ms/step - loss: 0.0403 - accuracy: 0.9871 - val_loss: 0.2928 - val_accuracy: 0.9397\n",
            "\n",
            "Epoch 00063: val_accuracy did not improve from 0.94050\n",
            "Epoch 64/100\n",
            "161/161 [==============================] - 9s 56ms/step - loss: 0.0427 - accuracy: 0.9859 - val_loss: 0.2948 - val_accuracy: 0.9403\n",
            "\n",
            "Epoch 00064: val_accuracy did not improve from 0.94050\n",
            "Epoch 65/100\n",
            "161/161 [==============================] - 9s 56ms/step - loss: 0.0376 - accuracy: 0.9874 - val_loss: 0.2934 - val_accuracy: 0.9391\n",
            "\n",
            "Epoch 00065: val_accuracy did not improve from 0.94050\n",
            "Epoch 66/100\n",
            "161/161 [==============================] - 9s 55ms/step - loss: 0.0371 - accuracy: 0.9875 - val_loss: 0.3027 - val_accuracy: 0.9396\n",
            "\n",
            "Epoch 00066: val_accuracy did not improve from 0.94050\n",
            "Epoch 67/100\n",
            "161/161 [==============================] - 9s 56ms/step - loss: 0.0384 - accuracy: 0.9873 - val_loss: 0.3047 - val_accuracy: 0.9395\n",
            "\n",
            "Epoch 00067: val_accuracy did not improve from 0.94050\n",
            "Epoch 68/100\n",
            "161/161 [==============================] - 9s 56ms/step - loss: 0.0358 - accuracy: 0.9880 - val_loss: 0.3185 - val_accuracy: 0.9370\n",
            "\n",
            "Epoch 00068: val_accuracy did not improve from 0.94050\n",
            "Epoch 69/100\n",
            "161/161 [==============================] - 9s 56ms/step - loss: 0.0343 - accuracy: 0.9878 - val_loss: 0.3075 - val_accuracy: 0.9395\n",
            "\n",
            "Epoch 00069: val_accuracy did not improve from 0.94050\n",
            "Epoch 70/100\n",
            "161/161 [==============================] - 9s 56ms/step - loss: 0.0328 - accuracy: 0.9889 - val_loss: 0.3054 - val_accuracy: 0.9403\n",
            "\n",
            "Epoch 00070: val_accuracy did not improve from 0.94050\n",
            "Epoch 71/100\n",
            "161/161 [==============================] - 9s 56ms/step - loss: 0.0324 - accuracy: 0.9888 - val_loss: 0.3158 - val_accuracy: 0.9378\n",
            "\n",
            "Epoch 00071: val_accuracy did not improve from 0.94050\n",
            "Epoch 72/100\n",
            "161/161 [==============================] - 9s 55ms/step - loss: 0.0313 - accuracy: 0.9888 - val_loss: 0.3161 - val_accuracy: 0.9395\n",
            "\n",
            "Epoch 00072: val_accuracy did not improve from 0.94050\n",
            "Epoch 73/100\n",
            "161/161 [==============================] - 9s 56ms/step - loss: 0.0303 - accuracy: 0.9891 - val_loss: 0.3130 - val_accuracy: 0.9392\n",
            "\n",
            "Epoch 00073: val_accuracy did not improve from 0.94050\n",
            "Epoch 74/100\n",
            "161/161 [==============================] - 9s 56ms/step - loss: 0.0292 - accuracy: 0.9900 - val_loss: 0.3242 - val_accuracy: 0.9381\n",
            "\n",
            "Epoch 00074: val_accuracy did not improve from 0.94050\n",
            "Epoch 75/100\n",
            "161/161 [==============================] - 9s 56ms/step - loss: 0.0293 - accuracy: 0.9891 - val_loss: 0.3215 - val_accuracy: 0.9401\n",
            "\n",
            "Epoch 00075: val_accuracy did not improve from 0.94050\n",
            "Epoch 76/100\n",
            "161/161 [==============================] - 9s 56ms/step - loss: 0.0289 - accuracy: 0.9897 - val_loss: 0.3266 - val_accuracy: 0.9386\n",
            "\n",
            "Epoch 00076: val_accuracy did not improve from 0.94050\n",
            "Epoch 77/100\n",
            "161/161 [==============================] - 9s 56ms/step - loss: 0.0285 - accuracy: 0.9898 - val_loss: 0.3229 - val_accuracy: 0.9403\n",
            "\n",
            "Epoch 00077: val_accuracy did not improve from 0.94050\n",
            "Epoch 78/100\n",
            "161/161 [==============================] - 9s 56ms/step - loss: 0.0269 - accuracy: 0.9900 - val_loss: 0.3325 - val_accuracy: 0.9392\n",
            "\n",
            "Epoch 00078: val_accuracy did not improve from 0.94050\n",
            "Epoch 79/100\n",
            "161/161 [==============================] - 9s 56ms/step - loss: 0.0265 - accuracy: 0.9904 - val_loss: 0.3343 - val_accuracy: 0.9394\n",
            "\n",
            "Epoch 00079: val_accuracy did not improve from 0.94050\n",
            "Epoch 80/100\n",
            "161/161 [==============================] - 9s 57ms/step - loss: 0.0285 - accuracy: 0.9893 - val_loss: 0.3330 - val_accuracy: 0.9392\n",
            "\n",
            "Epoch 00080: val_accuracy did not improve from 0.94050\n",
            "Epoch 81/100\n",
            "161/161 [==============================] - 9s 56ms/step - loss: 0.0251 - accuracy: 0.9905 - val_loss: 0.3335 - val_accuracy: 0.9384\n",
            "\n",
            "Epoch 00081: val_accuracy did not improve from 0.94050\n",
            "Epoch 82/100\n",
            "161/161 [==============================] - 9s 56ms/step - loss: 0.0258 - accuracy: 0.9904 - val_loss: 0.3386 - val_accuracy: 0.9390\n",
            "\n",
            "Epoch 00082: val_accuracy did not improve from 0.94050\n",
            "Epoch 83/100\n",
            "161/161 [==============================] - 9s 57ms/step - loss: 0.0251 - accuracy: 0.9905 - val_loss: 0.3374 - val_accuracy: 0.9396\n",
            "\n",
            "Epoch 00083: val_accuracy did not improve from 0.94050\n",
            "Epoch 84/100\n",
            "161/161 [==============================] - 9s 56ms/step - loss: 0.0234 - accuracy: 0.9909 - val_loss: 0.3369 - val_accuracy: 0.9396\n",
            "\n",
            "Epoch 00084: val_accuracy did not improve from 0.94050\n",
            "Epoch 85/100\n",
            "161/161 [==============================] - 9s 57ms/step - loss: 0.0232 - accuracy: 0.9912 - val_loss: 0.3449 - val_accuracy: 0.9382\n",
            "\n",
            "Epoch 00085: val_accuracy did not improve from 0.94050\n",
            "Epoch 86/100\n",
            "161/161 [==============================] - 9s 56ms/step - loss: 0.0232 - accuracy: 0.9906 - val_loss: 0.3516 - val_accuracy: 0.9388\n",
            "\n",
            "Epoch 00086: val_accuracy did not improve from 0.94050\n",
            "Epoch 87/100\n",
            "161/161 [==============================] - 9s 56ms/step - loss: 0.0229 - accuracy: 0.9908 - val_loss: 0.3490 - val_accuracy: 0.9391\n",
            "\n",
            "Epoch 00087: val_accuracy did not improve from 0.94050\n",
            "Epoch 88/100\n",
            "161/161 [==============================] - 9s 56ms/step - loss: 0.0212 - accuracy: 0.9917 - val_loss: 0.3548 - val_accuracy: 0.9379\n",
            "\n",
            "Epoch 00088: val_accuracy did not improve from 0.94050\n",
            "Epoch 89/100\n",
            "161/161 [==============================] - 9s 56ms/step - loss: 0.0234 - accuracy: 0.9908 - val_loss: 0.3569 - val_accuracy: 0.9396\n",
            "\n",
            "Epoch 00089: val_accuracy did not improve from 0.94050\n",
            "Epoch 90/100\n",
            "161/161 [==============================] - 9s 56ms/step - loss: 0.0212 - accuracy: 0.9913 - val_loss: 0.3561 - val_accuracy: 0.9391\n",
            "\n",
            "Epoch 00090: val_accuracy did not improve from 0.94050\n",
            "Epoch 91/100\n",
            "161/161 [==============================] - 9s 56ms/step - loss: 0.0211 - accuracy: 0.9914 - val_loss: 0.3603 - val_accuracy: 0.9379\n",
            "\n",
            "Epoch 00091: val_accuracy did not improve from 0.94050\n",
            "Epoch 92/100\n",
            "161/161 [==============================] - 9s 56ms/step - loss: 0.0212 - accuracy: 0.9915 - val_loss: 0.3676 - val_accuracy: 0.9391\n",
            "\n",
            "Epoch 00092: val_accuracy did not improve from 0.94050\n",
            "Epoch 93/100\n",
            "161/161 [==============================] - 9s 56ms/step - loss: 0.0204 - accuracy: 0.9915 - val_loss: 0.3665 - val_accuracy: 0.9380\n",
            "\n",
            "Epoch 00093: val_accuracy did not improve from 0.94050\n",
            "Epoch 94/100\n",
            "161/161 [==============================] - 9s 56ms/step - loss: 0.0215 - accuracy: 0.9911 - val_loss: 0.3632 - val_accuracy: 0.9396\n",
            "\n",
            "Epoch 00094: val_accuracy did not improve from 0.94050\n",
            "Epoch 95/100\n",
            "161/161 [==============================] - 9s 57ms/step - loss: 0.0193 - accuracy: 0.9917 - val_loss: 0.3706 - val_accuracy: 0.9387\n",
            "\n",
            "Epoch 00095: val_accuracy did not improve from 0.94050\n",
            "Epoch 96/100\n",
            "161/161 [==============================] - 9s 56ms/step - loss: 0.0195 - accuracy: 0.9919 - val_loss: 0.3708 - val_accuracy: 0.9387\n",
            "\n",
            "Epoch 00096: val_accuracy did not improve from 0.94050\n",
            "Epoch 97/100\n",
            "161/161 [==============================] - 9s 56ms/step - loss: 0.0191 - accuracy: 0.9915 - val_loss: 0.3701 - val_accuracy: 0.9389\n",
            "\n",
            "Epoch 00097: val_accuracy did not improve from 0.94050\n",
            "Epoch 98/100\n",
            "161/161 [==============================] - 9s 57ms/step - loss: 0.0188 - accuracy: 0.9917 - val_loss: 0.3801 - val_accuracy: 0.9373\n",
            "\n",
            "Epoch 00098: val_accuracy did not improve from 0.94050\n",
            "Epoch 99/100\n",
            "161/161 [==============================] - 9s 57ms/step - loss: 0.0191 - accuracy: 0.9919 - val_loss: 0.3748 - val_accuracy: 0.9392\n",
            "\n",
            "Epoch 00099: val_accuracy did not improve from 0.94050\n",
            "Epoch 100/100\n",
            "161/161 [==============================] - 9s 56ms/step - loss: 0.0193 - accuracy: 0.9917 - val_loss: 0.3772 - val_accuracy: 0.9393\n",
            "\n",
            "Epoch 00100: val_accuracy did not improve from 0.94050\n"
          ],
          "name": "stdout"
        },
        {
          "output_type": "execute_result",
          "data": {
            "text/plain": [
              "<tensorflow.python.keras.callbacks.History at 0x7f74fd5f4110>"
            ]
          },
          "metadata": {
            "tags": []
          },
          "execution_count": 15
        }
      ]
    },
    {
      "cell_type": "code",
      "metadata": {
        "id": "RfqAUrdvEipt"
      },
      "source": [
        " # Define sampling models\n",
        "# Restore the model and construct the encoder and decoder.\n",
        "model = keras.models.load_model(\"/content/drive/MyDrive/Colab Notebooks/ASEML/s2s\")\n",
        "\n",
        "encoder_inputs = model.input[0]  # input_1\n",
        "encoder_outputs, state_h_enc, state_c_enc = model.layers[2].output  # lstm_1\n",
        "encoder_states = [state_h_enc, state_c_enc]\n",
        "encoder_model = keras.Model(encoder_inputs, encoder_states)\n",
        "\n",
        "decoder_inputs = model.input[1]  # input_2\n",
        "decoder_state_input_h = keras.Input(shape=(latent_dim,), name=\"input_3\")\n",
        "decoder_state_input_c = keras.Input(shape=(latent_dim,), name=\"input_4\")\n",
        "decoder_states_inputs = [decoder_state_input_h, decoder_state_input_c]\n",
        "decoder_lstm = model.layers[3]\n",
        "decoder_outputs, state_h_dec, state_c_dec = decoder_lstm(\n",
        "    decoder_inputs, initial_state=decoder_states_inputs\n",
        ")\n",
        "decoder_states = [state_h_dec, state_c_dec]\n",
        "decoder_dense = model.layers[4]\n",
        "decoder_outputs = decoder_dense(decoder_outputs)\n",
        "decoder_model = keras.Model(\n",
        "    [decoder_inputs] + decoder_states_inputs, [decoder_outputs] + decoder_states\n",
        ")\n"
      ],
      "execution_count": 16,
      "outputs": []
    },
    {
      "cell_type": "code",
      "metadata": {
        "colab": {
          "base_uri": "https://localhost:8080/",
          "height": 462
        },
        "id": "qGY-Mb7TdFUk",
        "outputId": "9b57e888-e47c-4ac9-eef0-e7d24af118a3"
      },
      "source": [
        "val_df = pd.read_csv(\"/content/drive/MyDrive/Colab Notebooks/ASEML/demo/valid.csv\")\n",
        "val_df.head()"
      ],
      "execution_count": 47,
      "outputs": [
        {
          "output_type": "execute_result",
          "data": {
            "text/html": [
              "<div>\n",
              "<style scoped>\n",
              "    .dataframe tbody tr th:only-of-type {\n",
              "        vertical-align: middle;\n",
              "    }\n",
              "\n",
              "    .dataframe tbody tr th {\n",
              "        vertical-align: top;\n",
              "    }\n",
              "\n",
              "    .dataframe thead th {\n",
              "        text-align: right;\n",
              "    }\n",
              "</style>\n",
              "<table border=\"1\" class=\"dataframe\">\n",
              "  <thead>\n",
              "    <tr style=\"text-align: right;\">\n",
              "      <th></th>\n",
              "      <th>Unnamed: 0</th>\n",
              "      <th>sourceText</th>\n",
              "      <th>targetText</th>\n",
              "      <th>sourceLineText</th>\n",
              "      <th>targetLineText</th>\n",
              "      <th>lineNums_Text</th>\n",
              "      <th>sourceTokens</th>\n",
              "      <th>targetTokens</th>\n",
              "      <th>sourceLineTokens</th>\n",
              "      <th>targetLineTokens</th>\n",
              "    </tr>\n",
              "  </thead>\n",
              "  <tbody>\n",
              "    <tr>\n",
              "      <th>0</th>\n",
              "      <td>14643</td>\n",
              "      <td>#include &lt;stdio.h&gt;\\n#include &lt;stdlib.h&gt;\\nint f...</td>\n",
              "      <td>#include &lt;stdio.h&gt;\\n#include &lt;stdlib.h&gt;\\nint f...</td>\n",
              "      <td>if ( ( factorial ( x ) &gt;= n1 ) &amp;&amp; ( facdtorial...</td>\n",
              "      <td>if ( ( factorial ( x ) &gt;= n1 ) &amp;&amp; ( factorial ...</td>\n",
              "      <td>18</td>\n",
              "      <td>[['#include', ' &lt;stdio.h&gt;'], ['#include', ' &lt;s...</td>\n",
              "      <td>[['#include', ' &lt;stdio.h&gt;'], ['#include', ' &lt;s...</td>\n",
              "      <td>['if', '(', '(', 'factorial', '(', 'x', ')', '...</td>\n",
              "      <td>['if', '(', '(', 'factorial', '(', 'x', ')', '...</td>\n",
              "    </tr>\n",
              "    <tr>\n",
              "      <th>1</th>\n",
              "      <td>14644</td>\n",
              "      <td>#include&lt;stdio.h&gt;\\n#include&lt;stdlib.h&gt;\\nint mai...</td>\n",
              "      <td>#include&lt;stdio.h&gt;\\n#include&lt;stdlib.h&gt;\\nint mai...</td>\n",
              "      <td>scanf ( \"%d\" , &amp; a [ i ] ) ; \\n</td>\n",
              "      <td>scanf ( \"%d\" , &amp; a [ 0 ] ) ; \\n</td>\n",
              "      <td>9</td>\n",
              "      <td>[['#include', '&lt;stdio.h&gt;'], ['#include', '&lt;std...</td>\n",
              "      <td>[['#include', '&lt;stdio.h&gt;'], ['#include', '&lt;std...</td>\n",
              "      <td>['scanf', '(', '\"%d\"', ',', '&amp;', 'a', '[', 'i'...</td>\n",
              "      <td>['scanf', '(', '\"%d\"', ',', '&amp;', 'a', '[', '0'...</td>\n",
              "    </tr>\n",
              "    <tr>\n",
              "      <th>2</th>\n",
              "      <td>14645</td>\n",
              "      <td>#include&lt;stdio.h&gt;\\n\\nint main()\\n{\\n    int a,...</td>\n",
              "      <td>#include&lt;stdio.h&gt;\\n\\nint main()\\n{\\n    int a,...</td>\n",
              "      <td>a = a / 10 \\n</td>\n",
              "      <td>a = a / 10 ; \\n</td>\n",
              "      <td>11</td>\n",
              "      <td>[['#include', '&lt;stdio.h&gt;'], [], ['int', 'main'...</td>\n",
              "      <td>[['#include', '&lt;stdio.h&gt;'], [], ['int', 'main'...</td>\n",
              "      <td>['a', '=', 'a', '/', '10']</td>\n",
              "      <td>['a', '=', 'a', '/', '10', ';']</td>\n",
              "    </tr>\n",
              "    <tr>\n",
              "      <th>3</th>\n",
              "      <td>14646</td>\n",
              "      <td>#include&lt;stdio.h&gt;\\nint ant_sym(int a[100][100]...</td>\n",
              "      <td>#include&lt;stdio.h&gt;\\nint ant_sym(int a[100][100]...</td>\n",
              "      <td>int k , c ; \\n</td>\n",
              "      <td>int k , c , x , y ; \\n</td>\n",
              "      <td>31</td>\n",
              "      <td>[['#include', '&lt;stdio.h&gt;'], ['int', 'ant_sym',...</td>\n",
              "      <td>[['#include', '&lt;stdio.h&gt;'], ['int', 'ant_sym',...</td>\n",
              "      <td>['int', 'k', ',', 'c', ';']</td>\n",
              "      <td>['int', 'k', ',', 'c', ',', 'x', ',', 'y', ';']</td>\n",
              "    </tr>\n",
              "    <tr>\n",
              "      <th>4</th>\n",
              "      <td>14647</td>\n",
              "      <td>#include &lt;stdio.h&gt;\\nint rot(char a[100])\\n{\\n ...</td>\n",
              "      <td>#include &lt;stdio.h&gt;\\nint rot(char a[100])\\n{\\n ...</td>\n",
              "      <td>ch = rot ( a [ s ] ) ; \\n</td>\n",
              "      <td>ch = rot ( a [ i ] ) ; \\n</td>\n",
              "      <td>22</td>\n",
              "      <td>[['#include', ' &lt;stdio.h&gt;'], ['int', 'rot', '(...</td>\n",
              "      <td>[['#include', ' &lt;stdio.h&gt;'], ['int', 'rot', '(...</td>\n",
              "      <td>['ch', '=', 'rot', '(', 'a', '[', 's', ']', ')...</td>\n",
              "      <td>['ch', '=', 'rot', '(', 'a', '[', 'i', ']', ')...</td>\n",
              "    </tr>\n",
              "  </tbody>\n",
              "</table>\n",
              "</div>"
            ],
            "text/plain": [
              "   Unnamed: 0  ...                                   targetLineTokens\n",
              "0       14643  ...  ['if', '(', '(', 'factorial', '(', 'x', ')', '...\n",
              "1       14644  ...  ['scanf', '(', '\"%d\"', ',', '&', 'a', '[', '0'...\n",
              "2       14645  ...                    ['a', '=', 'a', '/', '10', ';']\n",
              "3       14646  ...    ['int', 'k', ',', 'c', ',', 'x', ',', 'y', ';']\n",
              "4       14647  ...  ['ch', '=', 'rot', '(', 'a', '[', 'i', ']', ')...\n",
              "\n",
              "[5 rows x 10 columns]"
            ]
          },
          "metadata": {
            "tags": []
          },
          "execution_count": 47
        }
      ]
    },
    {
      "cell_type": "code",
      "metadata": {
        "id": "hNVhSHR1pN-e"
      },
      "source": [
        ""
      ],
      "execution_count": 47,
      "outputs": []
    },
    {
      "cell_type": "code",
      "metadata": {
        "id": "0mvOhMJCrIPZ"
      },
      "source": [
        "def correct_code(input_token):\n",
        "\n",
        "  states_value = encoder_model.predict(input_token)\n",
        "  target_seq = np.zeros((1, 1, vocab.num_words))\n",
        "  target_seq[0, 0, SOS_token] = 1.0\n",
        "\n",
        "  correct_code = []\n",
        "\n",
        "  while True:\n",
        "\n",
        "    output_tokens, h, c = decoder_model.predict([target_seq] + states_value)\n",
        "    sampled_token_index = np.argmax(output_tokens[0, -1, :])\n",
        "\n",
        "    # print(type(sampled_token_index))\n",
        "    sampled_token = vocab.index2word[sampled_token_index]\n",
        "    # print(sampled_token)\n",
        "    correct_code.append(sampled_token)\n",
        "\n",
        "    target_seq = np.zeros((1, 1, vocab.num_words))\n",
        "    target_seq[0, 0, sampled_token_index] = 1.0\n",
        "\n",
        "    states_value = [h, c]\n",
        "\n",
        "    if sampled_token == \"EOS\" or len(correct_code) > dim:\n",
        "      break\n",
        "  \n",
        "  return correct_code\n"
      ],
      "execution_count": 48,
      "outputs": []
    },
    {
      "cell_type": "code",
      "metadata": {
        "id": "TTymloVTTAF2"
      },
      "source": [
        "df = val_df\n",
        "\n",
        "input_tokens = []\n",
        "\n",
        "for i in range(len(df)):\n",
        "  sourceLineToken = ast.literal_eval(df['sourceLineTokens'][i])\n",
        "  input_tokens.append(sourceLineToken)\n",
        "\n",
        "for i in range(len(input_tokens)):\n",
        "  for j in range(len(input_tokens[i])):\n",
        "    if input_tokens[i][j] not in vocab.word2index.keys():\n",
        "      input_tokens[i][j] = \"OOV\"\n",
        "\n",
        "for i in range(len(input_tokens)):\n",
        "  input_tokens[i] = input_tokens[i][:dim-1]\n",
        "\n",
        "\n",
        "encoder_input_data = np.zeros(\n",
        "    (len(input_tokens), dim + 1, vocab.num_words), dtype=float\n",
        ")\n",
        "\n",
        "for i, (input_token) in enumerate(input_tokens):\n",
        "\n",
        "    # input_token = input_token[:dim-1]\n",
        "    for t, token in enumerate(input_token):\n",
        "        encoder_input_data[i, t, vocab.word2index[token]] = 1.0\n",
        "\n",
        "    t = t + 1\n",
        "    encoder_input_data[i, t, EOS_token] = 1.0\n",
        "\n",
        "    encoder_input_data[i, t + 1: , PAD_token] = 1.0\n"
      ],
      "execution_count": 49,
      "outputs": []
    },
    {
      "cell_type": "code",
      "metadata": {
        "colab": {
          "base_uri": "https://localhost:8080/"
        },
        "id": "V0puUw4SGbq4",
        "outputId": "140e7bfe-12e6-4daf-8e71-7c353008dea3"
      },
      "source": [
        "\n",
        "corrected_code = []\n",
        "\n",
        "ip = len(val_df)\n",
        "print(ip)\n",
        "\n",
        "for i in range(len(val_df)):\n",
        "  sourceLineToken = ast.literal_eval(val_df['sourceLineTokens'][i])\n",
        "  targetLineToken = ast.literal_eval(val_df['targetLineTokens'][i])\n",
        "\n",
        "  cor_code = correct_code(encoder_input_data[i:i+1])\n",
        "\n",
        "  corrected_code.append(cor_code)\n",
        "  \n",
        "  for j, token in enumerate(targetLineToken):\n",
        "    if token not in vocab.word2index.keys():\n",
        "      targetLineToken[j] = 'OOV'\n",
        "\n",
        "  end = min(len(targetLineToken), dim)\n",
        "  for j in range(end):\n",
        "    if targetLineToken[j] != cor_code[j]:\n",
        "      ip -= 1\n",
        "      break\n",
        "  \n",
        "      \n",
        "print(ip)"
      ],
      "execution_count": 50,
      "outputs": [
        {
          "output_type": "stream",
          "text": [
            "2584\n",
            "835\n"
          ],
          "name": "stdout"
        }
      ]
    },
    {
      "cell_type": "code",
      "metadata": {
        "colab": {
          "base_uri": "https://localhost:8080/"
        },
        "id": "b1Mgk5hjfSZR",
        "outputId": "4163a2ad-f46a-47cf-9440-bad7e2203b2c"
      },
      "source": [
        "accuracy = ip / len(val_df)\n",
        "accuracy    # 32% accuracy"
      ],
      "execution_count": 61,
      "outputs": [
        {
          "output_type": "execute_result",
          "data": {
            "text/plain": [
              "0.3231424148606811"
            ]
          },
          "metadata": {
            "tags": []
          },
          "execution_count": 61
        }
      ]
    },
    {
      "cell_type": "code",
      "metadata": {
        "id": "vxB1hlEuBddc"
      },
      "source": [
        "val_df['fixedTokens'] = corrected_code\n",
        "val_df.to_csv('/content/drive/MyDrive/Colab Notebooks/ASEML/valid_output.csv')"
      ],
      "execution_count": 58,
      "outputs": []
    },
    {
      "cell_type": "code",
      "metadata": {
        "id": "PDKZ6N7KBdY8",
        "colab": {
          "base_uri": "https://localhost:8080/"
        },
        "outputId": "e5b406d4-8f3e-4dde-a76b-22b34b6e2445"
      },
      "source": [
        "835/2584"
      ],
      "execution_count": 51,
      "outputs": [
        {
          "output_type": "execute_result",
          "data": {
            "text/plain": [
              "0.3231424148606811"
            ]
          },
          "metadata": {
            "tags": []
          },
          "execution_count": 51
        }
      ]
    },
    {
      "cell_type": "code",
      "metadata": {
        "id": "XR6KdhVBBdV9",
        "colab": {
          "base_uri": "https://localhost:8080/",
          "height": 462
        },
        "outputId": "09f440ac-ab83-4f20-aef2-b2ffe32d9cab"
      },
      "source": [
        "val_df.head()"
      ],
      "execution_count": 57,
      "outputs": [
        {
          "output_type": "execute_result",
          "data": {
            "text/html": [
              "<div>\n",
              "<style scoped>\n",
              "    .dataframe tbody tr th:only-of-type {\n",
              "        vertical-align: middle;\n",
              "    }\n",
              "\n",
              "    .dataframe tbody tr th {\n",
              "        vertical-align: top;\n",
              "    }\n",
              "\n",
              "    .dataframe thead th {\n",
              "        text-align: right;\n",
              "    }\n",
              "</style>\n",
              "<table border=\"1\" class=\"dataframe\">\n",
              "  <thead>\n",
              "    <tr style=\"text-align: right;\">\n",
              "      <th></th>\n",
              "      <th>Unnamed: 0</th>\n",
              "      <th>sourceText</th>\n",
              "      <th>targetText</th>\n",
              "      <th>sourceLineText</th>\n",
              "      <th>targetLineText</th>\n",
              "      <th>lineNums_Text</th>\n",
              "      <th>sourceTokens</th>\n",
              "      <th>targetTokens</th>\n",
              "      <th>sourceLineTokens</th>\n",
              "      <th>targetLineTokens</th>\n",
              "      <th>fixedTokens</th>\n",
              "    </tr>\n",
              "  </thead>\n",
              "  <tbody>\n",
              "    <tr>\n",
              "      <th>0</th>\n",
              "      <td>14643</td>\n",
              "      <td>#include &lt;stdio.h&gt;\\n#include &lt;stdlib.h&gt;\\nint f...</td>\n",
              "      <td>#include &lt;stdio.h&gt;\\n#include &lt;stdlib.h&gt;\\nint f...</td>\n",
              "      <td>if ( ( factorial ( x ) &gt;= n1 ) &amp;&amp; ( facdtorial...</td>\n",
              "      <td>if ( ( factorial ( x ) &gt;= n1 ) &amp;&amp; ( factorial ...</td>\n",
              "      <td>18</td>\n",
              "      <td>[['#include', ' &lt;stdio.h&gt;'], ['#include', ' &lt;s...</td>\n",
              "      <td>[['#include', ' &lt;stdio.h&gt;'], ['#include', ' &lt;s...</td>\n",
              "      <td>['if', '(', '(', 'factorial', '(', 'x', ')', '...</td>\n",
              "      <td>['if', '(', '(', 'factorial', '(', 'x', ')', '...</td>\n",
              "      <td>[if, (, (, (, OOV, -&gt;, x, ), &gt;, (, y, -&gt;, y, )...</td>\n",
              "    </tr>\n",
              "    <tr>\n",
              "      <th>1</th>\n",
              "      <td>14644</td>\n",
              "      <td>#include&lt;stdio.h&gt;\\n#include&lt;stdlib.h&gt;\\nint mai...</td>\n",
              "      <td>#include&lt;stdio.h&gt;\\n#include&lt;stdlib.h&gt;\\nint mai...</td>\n",
              "      <td>scanf ( \"%d\" , &amp; a [ i ] ) ; \\n</td>\n",
              "      <td>scanf ( \"%d\" , &amp; a [ 0 ] ) ; \\n</td>\n",
              "      <td>9</td>\n",
              "      <td>[['#include', '&lt;stdio.h&gt;'], ['#include', '&lt;std...</td>\n",
              "      <td>[['#include', '&lt;stdio.h&gt;'], ['#include', '&lt;std...</td>\n",
              "      <td>['scanf', '(', '\"%d\"', ',', '&amp;', 'a', '[', 'i'...</td>\n",
              "      <td>['scanf', '(', '\"%d\"', ',', '&amp;', 'a', '[', '0'...</td>\n",
              "      <td>[scanf, (, \"%d\", ,, &amp;, a, [, i, ], ), ;, EOS]</td>\n",
              "    </tr>\n",
              "    <tr>\n",
              "      <th>2</th>\n",
              "      <td>14645</td>\n",
              "      <td>#include&lt;stdio.h&gt;\\n\\nint main()\\n{\\n    int a,...</td>\n",
              "      <td>#include&lt;stdio.h&gt;\\n\\nint main()\\n{\\n    int a,...</td>\n",
              "      <td>a = a / 10 \\n</td>\n",
              "      <td>a = a / 10 ; \\n</td>\n",
              "      <td>11</td>\n",
              "      <td>[['#include', '&lt;stdio.h&gt;'], [], ['int', 'main'...</td>\n",
              "      <td>[['#include', '&lt;stdio.h&gt;'], [], ['int', 'main'...</td>\n",
              "      <td>['a', '=', 'a', '/', '10']</td>\n",
              "      <td>['a', '=', 'a', '/', '10', ';']</td>\n",
              "      <td>[a, =, a, /, 10, ;, EOS]</td>\n",
              "    </tr>\n",
              "    <tr>\n",
              "      <th>3</th>\n",
              "      <td>14646</td>\n",
              "      <td>#include&lt;stdio.h&gt;\\nint ant_sym(int a[100][100]...</td>\n",
              "      <td>#include&lt;stdio.h&gt;\\nint ant_sym(int a[100][100]...</td>\n",
              "      <td>int k , c ; \\n</td>\n",
              "      <td>int k , c , x , y ; \\n</td>\n",
              "      <td>31</td>\n",
              "      <td>[['#include', '&lt;stdio.h&gt;'], ['int', 'ant_sym',...</td>\n",
              "      <td>[['#include', '&lt;stdio.h&gt;'], ['int', 'ant_sym',...</td>\n",
              "      <td>['int', 'k', ',', 'c', ';']</td>\n",
              "      <td>['int', 'k', ',', 'c', ',', 'x', ',', 'y', ';']</td>\n",
              "      <td>[int, k, ;, EOS]</td>\n",
              "    </tr>\n",
              "    <tr>\n",
              "      <th>4</th>\n",
              "      <td>14647</td>\n",
              "      <td>#include &lt;stdio.h&gt;\\nint rot(char a[100])\\n{\\n ...</td>\n",
              "      <td>#include &lt;stdio.h&gt;\\nint rot(char a[100])\\n{\\n ...</td>\n",
              "      <td>ch = rot ( a [ s ] ) ; \\n</td>\n",
              "      <td>ch = rot ( a [ i ] ) ; \\n</td>\n",
              "      <td>22</td>\n",
              "      <td>[['#include', ' &lt;stdio.h&gt;'], ['int', 'rot', '(...</td>\n",
              "      <td>[['#include', ' &lt;stdio.h&gt;'], ['int', 'rot', '(...</td>\n",
              "      <td>['ch', '=', 'rot', '(', 'a', '[', 's', ']', ')...</td>\n",
              "      <td>['ch', '=', 'rot', '(', 'a', '[', 'i', ']', ')...</td>\n",
              "      <td>[OOV, +=, OOV, (, a, ,, n, ), ;, EOS]</td>\n",
              "    </tr>\n",
              "  </tbody>\n",
              "</table>\n",
              "</div>"
            ],
            "text/plain": [
              "   Unnamed: 0  ...                                        fixedTokens\n",
              "0       14643  ...  [if, (, (, (, OOV, ->, x, ), >, (, y, ->, y, )...\n",
              "1       14644  ...      [scanf, (, \"%d\", ,, &, a, [, i, ], ), ;, EOS]\n",
              "2       14645  ...                           [a, =, a, /, 10, ;, EOS]\n",
              "3       14646  ...                                   [int, k, ;, EOS]\n",
              "4       14647  ...              [OOV, +=, OOV, (, a, ,, n, ), ;, EOS]\n",
              "\n",
              "[5 rows x 11 columns]"
            ]
          },
          "metadata": {
            "tags": []
          },
          "execution_count": 57
        }
      ]
    },
    {
      "cell_type": "code",
      "metadata": {
        "id": "9W_MOcFqBdRT"
      },
      "source": [
        ""
      ],
      "execution_count": null,
      "outputs": []
    },
    {
      "cell_type": "code",
      "metadata": {
        "id": "PdrFIiYBBdNI"
      },
      "source": [
        ""
      ],
      "execution_count": null,
      "outputs": []
    },
    {
      "cell_type": "code",
      "metadata": {
        "id": "Y1GZGz-hBdIj"
      },
      "source": [
        ""
      ],
      "execution_count": null,
      "outputs": []
    },
    {
      "cell_type": "code",
      "metadata": {
        "id": "JC4Suv1QB9Zp"
      },
      "source": [
        ""
      ],
      "execution_count": null,
      "outputs": []
    }
  ]
}